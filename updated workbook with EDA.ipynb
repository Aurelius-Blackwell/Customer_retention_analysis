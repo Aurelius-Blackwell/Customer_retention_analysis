{
 "cells": [
  {
   "cell_type": "markdown",
   "id": "8916a146-07bb-46e7-80df-31a5ff10eca7",
   "metadata": {},
   "source": [
    "# Digital Futures Academy Project: **Swan Teleco**"
   ]
  },
  {
   "cell_type": "code",
   "execution_count": 83,
   "id": "1f94b73a-1829-4d56-95fe-4110e21b5bd0",
   "metadata": {},
   "outputs": [],
   "source": [
    "import pandas as pd, seaborn as sns, matplotlib.pyplot as plt, numpy as np\n",
    "\n",
    "from sklearn.model_selection import train_test_split\n",
    "\n",
    "from sklearn.preprocessing import MinMaxScaler \n",
    "## Import the metrics we'll be using\n",
    "from sklearn import metrics\n",
    "## Import Logistic Regression from sklearn\n",
    "from sklearn.linear_model import LogisticRegression"
   ]
  },
  {
   "cell_type": "code",
   "execution_count": 84,
   "id": "ea315b87-34d8-4629-8023-2f64fc355636",
   "metadata": {},
   "outputs": [],
   "source": [
    "# Read the data into a Pandas DataFrame\n",
    "swan = pd.read_excel(\"1 - Project Data.xlsx\")"
   ]
  },
  {
   "cell_type": "code",
   "execution_count": 87,
   "id": "76ec1db9-e739-414a-b97d-a5acdc31cb22",
   "metadata": {},
   "outputs": [],
   "source": [
    "import pandas as pd\n",
    "\n",
    "df = pd.read_excel(\"1 - Project Data.xlsx\")  \n"
   ]
  },
  {
   "cell_type": "code",
   "execution_count": 53,
   "id": "c2063ac4-0b72-43aa-8c02-84f544281183",
   "metadata": {},
   "outputs": [
    {
     "data": {
      "text/html": [
       "<div>\n",
       "<style scoped>\n",
       "    .dataframe tbody tr th:only-of-type {\n",
       "        vertical-align: middle;\n",
       "    }\n",
       "\n",
       "    .dataframe tbody tr th {\n",
       "        vertical-align: top;\n",
       "    }\n",
       "\n",
       "    .dataframe thead th {\n",
       "        text-align: right;\n",
       "    }\n",
       "</style>\n",
       "<table border=\"1\" class=\"dataframe\">\n",
       "  <thead>\n",
       "    <tr style=\"text-align: right;\">\n",
       "      <th></th>\n",
       "      <th>CustomerID</th>\n",
       "      <th>Count</th>\n",
       "      <th>Country</th>\n",
       "      <th>State</th>\n",
       "      <th>City</th>\n",
       "      <th>Zip Code</th>\n",
       "      <th>Lat Long</th>\n",
       "      <th>Latitude</th>\n",
       "      <th>Longitude</th>\n",
       "      <th>Gender</th>\n",
       "      <th>...</th>\n",
       "      <th>Streaming TV</th>\n",
       "      <th>Streaming Movies</th>\n",
       "      <th>Contract</th>\n",
       "      <th>Paperless Billing</th>\n",
       "      <th>Payment Method</th>\n",
       "      <th>Monthly Charges</th>\n",
       "      <th>Total Charges</th>\n",
       "      <th>Churn Label</th>\n",
       "      <th>Churn Value</th>\n",
       "      <th>Churn Reason</th>\n",
       "    </tr>\n",
       "  </thead>\n",
       "  <tbody>\n",
       "    <tr>\n",
       "      <th>0</th>\n",
       "      <td>3668-QPYBK</td>\n",
       "      <td>1</td>\n",
       "      <td>United States</td>\n",
       "      <td>California</td>\n",
       "      <td>Los Angeles</td>\n",
       "      <td>90003</td>\n",
       "      <td>33.964131, -118.272783</td>\n",
       "      <td>33.964131</td>\n",
       "      <td>-118.272783</td>\n",
       "      <td>Male</td>\n",
       "      <td>...</td>\n",
       "      <td>No</td>\n",
       "      <td>No</td>\n",
       "      <td>Month-to-month</td>\n",
       "      <td>Yes</td>\n",
       "      <td>Mailed check</td>\n",
       "      <td>53.85</td>\n",
       "      <td>108.15</td>\n",
       "      <td>Yes</td>\n",
       "      <td>1</td>\n",
       "      <td>Competitor made better offer</td>\n",
       "    </tr>\n",
       "    <tr>\n",
       "      <th>1</th>\n",
       "      <td>9237-HQITU</td>\n",
       "      <td>1</td>\n",
       "      <td>United States</td>\n",
       "      <td>California</td>\n",
       "      <td>Los Angeles</td>\n",
       "      <td>90005</td>\n",
       "      <td>34.059281, -118.30742</td>\n",
       "      <td>34.059281</td>\n",
       "      <td>-118.307420</td>\n",
       "      <td>Female</td>\n",
       "      <td>...</td>\n",
       "      <td>No</td>\n",
       "      <td>No</td>\n",
       "      <td>Month-to-month</td>\n",
       "      <td>Yes</td>\n",
       "      <td>Electronic check</td>\n",
       "      <td>70.70</td>\n",
       "      <td>151.65</td>\n",
       "      <td>Yes</td>\n",
       "      <td>1</td>\n",
       "      <td>Moved</td>\n",
       "    </tr>\n",
       "    <tr>\n",
       "      <th>2</th>\n",
       "      <td>9305-CDSKC</td>\n",
       "      <td>1</td>\n",
       "      <td>United States</td>\n",
       "      <td>California</td>\n",
       "      <td>Los Angeles</td>\n",
       "      <td>90006</td>\n",
       "      <td>34.048013, -118.293953</td>\n",
       "      <td>34.048013</td>\n",
       "      <td>-118.293953</td>\n",
       "      <td>Female</td>\n",
       "      <td>...</td>\n",
       "      <td>Yes</td>\n",
       "      <td>Yes</td>\n",
       "      <td>Month-to-month</td>\n",
       "      <td>Yes</td>\n",
       "      <td>Electronic check</td>\n",
       "      <td>99.65</td>\n",
       "      <td>820.5</td>\n",
       "      <td>Yes</td>\n",
       "      <td>1</td>\n",
       "      <td>Moved</td>\n",
       "    </tr>\n",
       "    <tr>\n",
       "      <th>3</th>\n",
       "      <td>7892-POOKP</td>\n",
       "      <td>1</td>\n",
       "      <td>United States</td>\n",
       "      <td>California</td>\n",
       "      <td>Los Angeles</td>\n",
       "      <td>90010</td>\n",
       "      <td>34.062125, -118.315709</td>\n",
       "      <td>34.062125</td>\n",
       "      <td>-118.315709</td>\n",
       "      <td>Female</td>\n",
       "      <td>...</td>\n",
       "      <td>Yes</td>\n",
       "      <td>Yes</td>\n",
       "      <td>Month-to-month</td>\n",
       "      <td>Yes</td>\n",
       "      <td>Electronic check</td>\n",
       "      <td>104.80</td>\n",
       "      <td>3046.05</td>\n",
       "      <td>Yes</td>\n",
       "      <td>1</td>\n",
       "      <td>Moved</td>\n",
       "    </tr>\n",
       "    <tr>\n",
       "      <th>4</th>\n",
       "      <td>0280-XJGEX</td>\n",
       "      <td>1</td>\n",
       "      <td>United States</td>\n",
       "      <td>California</td>\n",
       "      <td>Los Angeles</td>\n",
       "      <td>90015</td>\n",
       "      <td>34.039224, -118.266293</td>\n",
       "      <td>34.039224</td>\n",
       "      <td>-118.266293</td>\n",
       "      <td>Male</td>\n",
       "      <td>...</td>\n",
       "      <td>Yes</td>\n",
       "      <td>Yes</td>\n",
       "      <td>Month-to-month</td>\n",
       "      <td>Yes</td>\n",
       "      <td>Bank transfer (automatic)</td>\n",
       "      <td>103.70</td>\n",
       "      <td>5036.3</td>\n",
       "      <td>Yes</td>\n",
       "      <td>1</td>\n",
       "      <td>Competitor had better devices</td>\n",
       "    </tr>\n",
       "  </tbody>\n",
       "</table>\n",
       "<p>5 rows × 31 columns</p>\n",
       "</div>"
      ],
      "text/plain": [
       "   CustomerID  Count        Country       State         City  Zip Code  \\\n",
       "0  3668-QPYBK      1  United States  California  Los Angeles     90003   \n",
       "1  9237-HQITU      1  United States  California  Los Angeles     90005   \n",
       "2  9305-CDSKC      1  United States  California  Los Angeles     90006   \n",
       "3  7892-POOKP      1  United States  California  Los Angeles     90010   \n",
       "4  0280-XJGEX      1  United States  California  Los Angeles     90015   \n",
       "\n",
       "                 Lat Long   Latitude   Longitude  Gender  ... Streaming TV  \\\n",
       "0  33.964131, -118.272783  33.964131 -118.272783    Male  ...           No   \n",
       "1   34.059281, -118.30742  34.059281 -118.307420  Female  ...           No   \n",
       "2  34.048013, -118.293953  34.048013 -118.293953  Female  ...          Yes   \n",
       "3  34.062125, -118.315709  34.062125 -118.315709  Female  ...          Yes   \n",
       "4  34.039224, -118.266293  34.039224 -118.266293    Male  ...          Yes   \n",
       "\n",
       "  Streaming Movies        Contract  Paperless Billing  \\\n",
       "0               No  Month-to-month                Yes   \n",
       "1               No  Month-to-month                Yes   \n",
       "2              Yes  Month-to-month                Yes   \n",
       "3              Yes  Month-to-month                Yes   \n",
       "4              Yes  Month-to-month                Yes   \n",
       "\n",
       "              Payment Method Monthly Charges Total Charges Churn Label  \\\n",
       "0               Mailed check           53.85        108.15         Yes   \n",
       "1           Electronic check           70.70        151.65         Yes   \n",
       "2           Electronic check           99.65         820.5         Yes   \n",
       "3           Electronic check          104.80       3046.05         Yes   \n",
       "4  Bank transfer (automatic)          103.70        5036.3         Yes   \n",
       "\n",
       "  Churn Value                   Churn Reason  \n",
       "0           1   Competitor made better offer  \n",
       "1           1                          Moved  \n",
       "2           1                          Moved  \n",
       "3           1                          Moved  \n",
       "4           1  Competitor had better devices  \n",
       "\n",
       "[5 rows x 31 columns]"
      ]
     },
     "execution_count": 53,
     "metadata": {},
     "output_type": "execute_result"
    }
   ],
   "source": [
    "swan.head()"
   ]
  },
  {
   "cell_type": "markdown",
   "id": "34f43a57-1703-496f-aa0c-84fee2a723f5",
   "metadata": {},
   "source": [
    "## **EDA**"
   ]
  },
  {
   "cell_type": "markdown",
   "id": "d383a1e0-6867-4d11-bc8e-5d011254f509",
   "metadata": {},
   "source": [
    "### Check Data Types"
   ]
  },
  {
   "cell_type": "code",
   "execution_count": 4,
   "id": "db55143d-a467-42bf-82cf-0fce278c289a",
   "metadata": {},
   "outputs": [
    {
     "data": {
      "text/plain": [
       "7043"
      ]
     },
     "execution_count": 4,
     "metadata": {},
     "output_type": "execute_result"
    }
   ],
   "source": [
    "swan.shape[0]"
   ]
  },
  {
   "cell_type": "code",
   "execution_count": 5,
   "id": "4f50de67-dd94-49ef-b5ad-a58e4c74c3f7",
   "metadata": {},
   "outputs": [
    {
     "data": {
      "text/plain": [
       "CustomerID            object\n",
       "Count                  int64\n",
       "Country               object\n",
       "State                 object\n",
       "City                  object\n",
       "Zip Code               int64\n",
       "Lat Long              object\n",
       "Latitude             float64\n",
       "Longitude            float64\n",
       "Gender                object\n",
       "Senior Citizen        object\n",
       "Partner               object\n",
       "Dependents            object\n",
       "Tenure Months          int64\n",
       "Phone Service         object\n",
       "Multiple Lines        object\n",
       "Internet Service      object\n",
       "Online Security       object\n",
       "Online Backup         object\n",
       "Device Protection     object\n",
       "Tech Support          object\n",
       "Streaming TV          object\n",
       "Streaming Movies      object\n",
       "Contract              object\n",
       "Paperless Billing     object\n",
       "Payment Method        object\n",
       "Monthly Charges      float64\n",
       "Total Charges         object\n",
       "Churn Label           object\n",
       "Churn Value            int64\n",
       "Churn Reason          object\n",
       "dtype: object"
      ]
     },
     "execution_count": 5,
     "metadata": {},
     "output_type": "execute_result"
    }
   ],
   "source": [
    "swan.dtypes"
   ]
  },
  {
   "cell_type": "markdown",
   "id": "1594afa0-0406-4e1c-be2a-e3c504705181",
   "metadata": {},
   "source": [
    "### Cleaning\n",
    "* Redundant column removal\n",
    "  * `Churn Label`\n",
    "* Correcting data types\n",
    "  * `Total Charges` --> object to float\n",
    "* Null Value handling\n",
    "  * Replace ' ' with 0 where `Total Charges == ' '`"
   ]
  },
  {
   "cell_type": "code",
   "execution_count": 54,
   "id": "51ea09b5-5f56-4da2-9f7a-02e24021942c",
   "metadata": {},
   "outputs": [
    {
     "data": {
      "text/plain": [
       "5174"
      ]
     },
     "execution_count": 54,
     "metadata": {},
     "output_type": "execute_result"
    }
   ],
   "source": [
    "((swan['Churn Label'] == 'No')&(swan['Churn Value'] == 0)).sum()"
   ]
  },
  {
   "cell_type": "code",
   "execution_count": 55,
   "id": "b7ca30e0-cb0a-487e-ab5e-8131d416e333",
   "metadata": {},
   "outputs": [],
   "source": [
    "swan.drop(columns = ['Churn Label'], inplace =True)"
   ]
  },
  {
   "cell_type": "code",
   "execution_count": 56,
   "id": "9972e602-2266-4a04-96f8-6a1481755675",
   "metadata": {},
   "outputs": [
    {
     "data": {
      "text/plain": [
       "11"
      ]
     },
     "execution_count": 56,
     "metadata": {},
     "output_type": "execute_result"
    }
   ],
   "source": [
    "(swan['Total Charges'] == ' ').sum()"
   ]
  },
  {
   "cell_type": "code",
   "execution_count": 57,
   "id": "858b914b-6c23-4053-a768-49711ac392ff",
   "metadata": {},
   "outputs": [
    {
     "data": {
      "text/plain": [
       "2234    0\n",
       "2438    0\n",
       "2568    0\n",
       "2667    0\n",
       "2856    0\n",
       "4331    0\n",
       "4687    0\n",
       "5104    0\n",
       "5719    0\n",
       "6772    0\n",
       "6840    0\n",
       "Name: Tenure Months, dtype: int64"
      ]
     },
     "execution_count": 57,
     "metadata": {},
     "output_type": "execute_result"
    }
   ],
   "source": [
    "swan[swan['Total Charges'] == ' ']['Tenure Months']"
   ]
  },
  {
   "cell_type": "code",
   "execution_count": 10,
   "id": "7606198d-d067-4fbf-9a2c-9657cd5eb2c4",
   "metadata": {},
   "outputs": [
    {
     "name": "stderr",
     "output_type": "stream",
     "text": [
      "/var/folders/rv/4llj5_152rz96jjz6_bjj5xc0000gn/T/ipykernel_53094/4219716417.py:1: FutureWarning: A value is trying to be set on a copy of a DataFrame or Series through chained assignment using an inplace method.\n",
      "The behavior will change in pandas 3.0. This inplace method will never work because the intermediate object on which we are setting values always behaves as a copy.\n",
      "\n",
      "For example, when doing 'df[col].method(value, inplace=True)', try using 'df.method({col: value}, inplace=True)' or df[col] = df[col].method(value) instead, to perform the operation inplace on the original object.\n",
      "\n",
      "\n",
      "  swan['Total Charges'].replace(' ', 0, inplace=True)\n",
      "/var/folders/rv/4llj5_152rz96jjz6_bjj5xc0000gn/T/ipykernel_53094/4219716417.py:1: FutureWarning: Downcasting behavior in `replace` is deprecated and will be removed in a future version. To retain the old behavior, explicitly call `result.infer_objects(copy=False)`. To opt-in to the future behavior, set `pd.set_option('future.no_silent_downcasting', True)`\n",
      "  swan['Total Charges'].replace(' ', 0, inplace=True)\n"
     ]
    }
   ],
   "source": [
    "swan['Total Charges'].replace(' ', 0, inplace=True)"
   ]
  },
  {
   "cell_type": "code",
   "execution_count": null,
   "id": "31135d0a-4eae-4df1-8ddb-f56bd24f1877",
   "metadata": {},
   "outputs": [],
   "source": [
    "swan['Total Charges'] = swan['Total Charges'].astype(float)"
   ]
  },
  {
   "cell_type": "code",
   "execution_count": 61,
   "id": "cd28b223-1205-407f-b18a-b164a90a192e",
   "metadata": {},
   "outputs": [
    {
     "data": {
      "text/html": [
       "<div>\n",
       "<style scoped>\n",
       "    .dataframe tbody tr th:only-of-type {\n",
       "        vertical-align: middle;\n",
       "    }\n",
       "\n",
       "    .dataframe tbody tr th {\n",
       "        vertical-align: top;\n",
       "    }\n",
       "\n",
       "    .dataframe thead th {\n",
       "        text-align: right;\n",
       "    }\n",
       "</style>\n",
       "<table border=\"1\" class=\"dataframe\">\n",
       "  <thead>\n",
       "    <tr style=\"text-align: right;\">\n",
       "      <th></th>\n",
       "      <th>CustomerID</th>\n",
       "      <th>Count</th>\n",
       "      <th>Country</th>\n",
       "      <th>State</th>\n",
       "      <th>City</th>\n",
       "      <th>Zip Code</th>\n",
       "      <th>Lat Long</th>\n",
       "      <th>Latitude</th>\n",
       "      <th>Longitude</th>\n",
       "      <th>Gender</th>\n",
       "      <th>...</th>\n",
       "      <th>Tech Support</th>\n",
       "      <th>Streaming TV</th>\n",
       "      <th>Streaming Movies</th>\n",
       "      <th>Contract</th>\n",
       "      <th>Paperless Billing</th>\n",
       "      <th>Payment Method</th>\n",
       "      <th>Monthly Charges</th>\n",
       "      <th>Total Charges</th>\n",
       "      <th>Churn Value</th>\n",
       "      <th>Churn Reason</th>\n",
       "    </tr>\n",
       "  </thead>\n",
       "  <tbody>\n",
       "  </tbody>\n",
       "</table>\n",
       "<p>0 rows × 30 columns</p>\n",
       "</div>"
      ],
      "text/plain": [
       "Empty DataFrame\n",
       "Columns: [CustomerID, Count, Country, State, City, Zip Code, Lat Long, Latitude, Longitude, Gender, Senior Citizen, Partner, Dependents, Tenure Months, Phone Service, Multiple Lines, Internet Service, Online Security, Online Backup, Device Protection, Tech Support, Streaming TV, Streaming Movies, Contract, Paperless Billing, Payment Method, Monthly Charges, Total Charges, Churn Value, Churn Reason]\n",
       "Index: []\n",
       "\n",
       "[0 rows x 30 columns]"
      ]
     },
     "execution_count": 61,
     "metadata": {},
     "output_type": "execute_result"
    }
   ],
   "source": [
    "swan[swan['Total Charges'] == 0]"
   ]
  },
  {
   "cell_type": "markdown",
   "id": "446765a3-3488-4b28-827e-022c6fbd276d",
   "metadata": {},
   "source": [
    "### Train-Test Split"
   ]
  },
  {
   "cell_type": "code",
   "execution_count": 62,
   "id": "59eb9095-2982-4239-9b23-20ef772f2b5c",
   "metadata": {},
   "outputs": [],
   "source": [
    "feature_cols = list(swan.columns)\n",
    "feature_cols.remove('Churn Value')\n",
    "\n",
    "X = swan[feature_cols]\n",
    "y = swan['Churn Value']\n",
    "\n",
    "X_train, X_test, y_train, y_test = train_test_split(X, y, test_size = 0.2, random_state = 42)"
   ]
  },
  {
   "cell_type": "code",
   "execution_count": 63,
   "id": "1f0b0c23-6814-493c-bcdb-81ca4078aaf8",
   "metadata": {},
   "outputs": [
    {
     "data": {
      "text/plain": [
       "0"
      ]
     },
     "execution_count": 63,
     "metadata": {},
     "output_type": "execute_result"
    }
   ],
   "source": [
    "(X_train.index != y_train.index).sum()"
   ]
  },
  {
   "cell_type": "markdown",
   "id": "6a7e3d72-b062-4c1f-bce8-83de94a8d4e2",
   "metadata": {},
   "source": [
    "### Explore Target"
   ]
  },
  {
   "cell_type": "code",
   "execution_count": 64,
   "id": "53d4628b-c3a1-40f1-80fd-974e42bd383c",
   "metadata": {},
   "outputs": [],
   "source": [
    "train = X_train.copy()\n",
    "train['Churn Value'] = y_train.copy()\n"
   ]
  },
  {
   "cell_type": "code",
   "execution_count": 65,
   "id": "e06def30-e48a-412f-960a-e869698d75b7",
   "metadata": {},
   "outputs": [
    {
     "data": {
      "text/plain": [
       "Churn Value\n",
       "0    0.739262\n",
       "1    0.260738\n",
       "Name: proportion, dtype: float64"
      ]
     },
     "execution_count": 65,
     "metadata": {},
     "output_type": "execute_result"
    }
   ],
   "source": [
    "train['Churn Value'].value_counts(normalize = True)"
   ]
  },
  {
   "cell_type": "code",
   "execution_count": 66,
   "id": "c35266a4-efd3-4cc6-974a-4fb3f4043567",
   "metadata": {},
   "outputs": [
    {
     "data": {
      "image/png": "[encoded data removed]",
      "text/plain": [
       "<Figure size 640x480 with 1 Axes>"
      ]
     },
     "metadata": {},
     "output_type": "display_data"
    }
   ],
   "source": [
    "sns.scatterplot(data=train, x='Latitude', y='Churn Value')\n",
    "plt.show()"
   ]
  },
  {
   "cell_type": "markdown",
   "id": "25be5224-dbe5-45b9-9421-bd032574fc34",
   "metadata": {},
   "source": [
    "### Churner Demographic"
   ]
  },
  {
   "cell_type": "code",
   "execution_count": 18,
   "id": "e8594eb5-4ee1-462c-b6ee-ae0e5cbe3fd6",
   "metadata": {},
   "outputs": [
    {
     "data": {
      "image/png": "[encoded data removed]",
      "text/plain": [
       "<Figure size 640x480 with 1 Axes>"
      ]
     },
     "metadata": {},
     "output_type": "display_data"
    }
   ],
   "source": [
    "sns.countplot(swan[swan['Churn Value']==1]['Gender'])\n",
    "plt.show()"
   ]
  },
  {
   "cell_type": "code",
   "execution_count": 19,
   "id": "c48d901b-95b9-4997-af46-7e744bece421",
   "metadata": {},
   "outputs": [
    {
     "data": {
      "image/png": "[encoded data removed]",
      "text/plain": [
       "<Figure size 640x480 with 1 Axes>"
      ]
     },
     "metadata": {},
     "output_type": "display_data"
    }
   ],
   "source": [
    "sns.countplot(swan[swan['Churn Value']==1]['Senior Citizen'])\n",
    "plt.show()"
   ]
  },
  {
   "cell_type": "code",
   "execution_count": 20,
   "id": "23aff706-b573-49db-a9a3-3df4611f1b9d",
   "metadata": {},
   "outputs": [
    {
     "data": {
      "image/png": "[encoded data removed]",
      "text/plain": [
       "<Figure size 640x480 with 1 Axes>"
      ]
     },
     "metadata": {},
     "output_type": "display_data"
    }
   ],
   "source": [
    "sns.countplot(swan[swan['Churn Value']==1]['Partner'])\n",
    "plt.show()"
   ]
  },
  {
   "cell_type": "code",
   "execution_count": 21,
   "id": "201805a4-b2bb-40da-875f-9a9f23e538eb",
   "metadata": {},
   "outputs": [
    {
     "data": {
      "image/png": "[encoded data removed]",
      "text/plain": [
       "<Figure size 640x480 with 1 Axes>"
      ]
     },
     "metadata": {},
     "output_type": "display_data"
    }
   ],
   "source": [
    "sns.countplot(swan[swan['Churn Value']==1]['Dependents'])\n",
    "plt.show()"
   ]
  },
  {
   "cell_type": "markdown",
   "id": "5d34743c-4df0-450a-9c48-2fb9c3bc6cd7",
   "metadata": {},
   "source": [
    "### Finding relationships"
   ]
  },
  {
   "cell_type": "code",
   "execution_count": 22,
   "id": "8841882f-fd1d-48ce-8f28-14c3a1ec315d",
   "metadata": {},
   "outputs": [
    {
     "data": {
      "image/png": "[encoded data removed]",
      "text/plain": [
       "<Figure size 640x480 with 1 Axes>"
      ]
     },
     "metadata": {},
     "output_type": "display_data"
    }
   ],
   "source": [
    "sns.scatterplot(train, x='Tenure Months', y='Churn Value')\n",
    "plt.show()"
   ]
  },
  {
   "cell_type": "code",
   "execution_count": null,
   "id": "cf65a96b-c231-4157-b3d9-a89ab2a0a83a",
   "metadata": {},
   "outputs": [],
   "source": []
  },
  {
   "cell_type": "code",
   "execution_count": null,
   "id": "f2541914-603e-4ab0-8a5c-ed10bca40a53",
   "metadata": {},
   "outputs": [],
   "source": []
  },
  {
   "cell_type": "code",
   "execution_count": null,
   "id": "4cd69161-5822-407a-b8b3-c7a69b72cace",
   "metadata": {},
   "outputs": [],
   "source": []
  },
  {
   "cell_type": "code",
   "execution_count": null,
   "id": "264301ad-76bc-41d9-9e9e-f40085a9af18",
   "metadata": {},
   "outputs": [],
   "source": []
  },
  {
   "cell_type": "code",
   "execution_count": null,
   "id": "2e56dfc1-b77c-4e72-9d47-9e4ebb737eca",
   "metadata": {},
   "outputs": [],
   "source": []
  },
  {
   "cell_type": "code",
   "execution_count": null,
   "id": "007fde09-e840-494d-9b29-32ef4c981d76",
   "metadata": {},
   "outputs": [],
   "source": []
  },
  {
   "cell_type": "code",
   "execution_count": null,
   "id": "91a0a313-1c14-4251-bf60-cc806d17d98e",
   "metadata": {},
   "outputs": [],
   "source": []
  },
  {
   "cell_type": "code",
   "execution_count": null,
   "id": "d41b848b-608e-41be-9133-e80466a91756",
   "metadata": {},
   "outputs": [],
   "source": []
  },
  {
   "cell_type": "markdown",
   "id": "59e6a12a-7b45-44f4-9c8b-da2ea97e1183",
   "metadata": {},
   "source": [
    "## **Feature Engineering**"
   ]
  },
  {
   "cell_type": "markdown",
   "id": "df8cad87-20a6-4006-9c9b-c7e770f490a6",
   "metadata": {},
   "source": [
    "### To-Do:"
   ]
  },
  {
   "cell_type": "markdown",
   "id": "d3f69829-93b8-43b9-ab7a-96f4f8838310",
   "metadata": {},
   "source": [
    "* Drop from Feature List: `CustomerID`,`Count`,`Country`,`State`,`City`,`Zip Code`,`Lat Long`,`Churn Reason`\n",
    "* Boolean Label Encode: `Gender`,`Senior Citizen`,`Partner`,`Dependents`,`Phone Service`,`Paperless Billing`,`Multiple Lines`,`Online Security`,`Online Backup`,`Device Protection`,`Tech Support`,`Streaming TV`,`Streaming Movies`\n",
    "* Order Label Encode: `Contract`\n",
    "* One-Hot Encode: `Internet Service`,`Payment Method`\n",
    "* Feature Scaling: Max-Min Scale every feature"
   ]
  },
  {
   "cell_type": "code",
   "execution_count": 23,
   "id": "5f386b99-a369-4911-a597-3dd56ccbaeea",
   "metadata": {},
   "outputs": [],
   "source": [
    "def bool_labeling(df, col_name):\n",
    "    df = df.copy()\n",
    "    col = df[col_name].replace({r'^No.*':0,'Yes':1,0:0,1:1}, regex=True)\n",
    "    return col"
   ]
  },
  {
   "cell_type": "code",
   "execution_count": 24,
   "id": "a314df6d-1efc-4e58-b5a5-8c261f54a997",
   "metadata": {},
   "outputs": [],
   "source": [
    "def gender_labeling(df, col_name):\n",
    "    df = df.copy()\n",
    "    col = df[col_name].replace({'Male':0,'Female':1,0:0,1:1})\n",
    "    return col"
   ]
  },
  {
   "cell_type": "code",
   "execution_count": 25,
   "id": "a4cfaf94-80b6-477d-9c24-ecb7737f54b5",
   "metadata": {},
   "outputs": [],
   "source": [
    "def contract_labeling(df, col_name):\n",
    "    df=df.copy()\n",
    "    col = df[col_name].replace({'One year':12,'Month-to-month':1,'Two year':24})\n",
    "    return col"
   ]
  },
  {
   "cell_type": "code",
   "execution_count": 26,
   "id": "35a65f98-f52a-4e8d-bfa3-303fb545e34c",
   "metadata": {},
   "outputs": [],
   "source": [
    "def ohe(df, col_name):\n",
    "    df=df.copy()\n",
    "    df=pd.get_dummies(df, columns = [f'{col_name}'], prefix = f'{col_name}', drop_first = True, dtype='int')\n",
    "    return df"
   ]
  },
  {
   "cell_type": "code",
   "execution_count": 67,
   "id": "e7c2daf0-9892-4e5e-a2fb-5be37f16bf87",
   "metadata": {},
   "outputs": [],
   "source": [
    "def feature_engineering(df):\n",
    "    df=df.copy()\n",
    "    \n",
    "    df.drop(columns=['CustomerID','Count','Country','State','City','Zip Code','Lat Long','Churn Reason'],inplace = True)\n",
    "\n",
    "    for col_name in ['Senior Citizen','Partner','Dependents','Phone Service','Paperless Billing','Multiple Lines',\n",
    "                     'Online Security','Online Backup','Device Protection','Tech Support','Streaming TV',\n",
    "                     'Streaming Movies']:\n",
    "        df[col_name] = bool_labeling(df, col_name)\n",
    "\n",
    "    df['Gender'] = gender_labeling(df, 'Gender')\n",
    "\n",
    "    df['Contract'] = contract_labeling(df, 'Contract')\n",
    "\n",
    "    df = ohe(df,'Internet Service')\n",
    "    df = ohe(df,'Payment Method')\n",
    "\n",
    "    return df\n",
    "    "
   ]
  },
  {
   "cell_type": "code",
   "execution_count": 28,
   "id": "1afdd301-1aeb-46c9-95c7-4d8ae92cc6a0",
   "metadata": {},
   "outputs": [
    {
     "name": "stderr",
     "output_type": "stream",
     "text": [
      "/var/folders/rv/4llj5_152rz96jjz6_bjj5xc0000gn/T/ipykernel_53094/2918864045.py:3: FutureWarning: Downcasting behavior in `replace` is deprecated and will be removed in a future version. To retain the old behavior, explicitly call `result.infer_objects(copy=False)`. To opt-in to the future behavior, set `pd.set_option('future.no_silent_downcasting', True)`\n",
      "  col = df[col_name].replace({r'^No.*':0,'Yes':1,0:0,1:1}, regex=True)\n"
     ]
    }
   ],
   "source": [
    "X_train_fe = feature_engineering(X_train)"
   ]
  },
  {
   "cell_type": "code",
   "execution_count": 29,
   "id": "61d7246d-6a5a-4da5-bee9-106e48205553",
   "metadata": {},
   "outputs": [
    {
     "data": {
      "text/html": [
       "<style>#sk-container-id-1 {\n",
       "  /* Definition of color scheme common for light and dark mode */\n",
       "  --sklearn-color-text: black;\n",
       "  --sklearn-color-line: gray;\n",
       "  /* Definition of color scheme for unfitted estimators */\n",
       "  --sklearn-color-unfitted-level-0: #fff5e6;\n",
       "  --sklearn-color-unfitted-level-1: #f6e4d2;\n",
       "  --sklearn-color-unfitted-level-2: #ffe0b3;\n",
       "  --sklearn-color-unfitted-level-3: chocolate;\n",
       "  /* Definition of color scheme for fitted estimators */\n",
       "  --sklearn-color-fitted-level-0: #f0f8ff;\n",
       "  --sklearn-color-fitted-level-1: #d4ebff;\n",
       "  --sklearn-color-fitted-level-2: #b3dbfd;\n",
       "  --sklearn-color-fitted-level-3: cornflowerblue;\n",
       "\n",
       "  /* Specific color for light theme */\n",
       "  --sklearn-color-text-on-default-background: var(--sg-text-color, var(--theme-code-foreground, var(--jp-content-font-color1, black)));\n",
       "  --sklearn-color-background: var(--sg-background-color, var(--theme-background, var(--jp-layout-color0, white)));\n",
       "  --sklearn-color-border-box: var(--sg-text-color, var(--theme-code-foreground, var(--jp-content-font-color1, black)));\n",
       "  --sklearn-color-icon: #696969;\n",
       "\n",
       "  @media (prefers-color-scheme: dark) {\n",
       "    /* Redefinition of color scheme for dark theme */\n",
       "    --sklearn-color-text-on-default-background: var(--sg-text-color, var(--theme-code-foreground, var(--jp-content-font-color1, white)));\n",
       "    --sklearn-color-background: var(--sg-background-color, var(--theme-background, var(--jp-layout-color0, #111)));\n",
       "    --sklearn-color-border-box: var(--sg-text-color, var(--theme-code-foreground, var(--jp-content-font-color1, white)));\n",
       "    --sklearn-color-icon: #878787;\n",
       "  }\n",
       "}\n",
       "\n",
       "#sk-container-id-1 {\n",
       "  color: var(--sklearn-color-text);\n",
       "}\n",
       "\n",
       "#sk-container-id-1 pre {\n",
       "  padding: 0;\n",
       "}\n",
       "\n",
       "#sk-container-id-1 input.sk-hidden--visually {\n",
       "  border: 0;\n",
       "  clip: rect(1px 1px 1px 1px);\n",
       "  clip: rect(1px, 1px, 1px, 1px);\n",
       "  height: 1px;\n",
       "  margin: -1px;\n",
       "  overflow: hidden;\n",
       "  padding: 0;\n",
       "  position: absolute;\n",
       "  width: 1px;\n",
       "}\n",
       "\n",
       "#sk-container-id-1 div.sk-dashed-wrapped {\n",
       "  border: 1px dashed var(--sklearn-color-line);\n",
       "  margin: 0 0.4em 0.5em 0.4em;\n",
       "  box-sizing: border-box;\n",
       "  padding-bottom: 0.4em;\n",
       "  background-color: var(--sklearn-color-background);\n",
       "}\n",
       "\n",
       "#sk-container-id-1 div.sk-container {\n",
       "  /* jupyter's `normalize.less` sets `[hidden] { display: none; }`\n",
       "     but bootstrap.min.css set `[hidden] { display: none !important; }`\n",
       "     so we also need the `!important` here to be able to override the\n",
       "     default hidden behavior on the sphinx rendered scikit-learn.org.\n",
       "     See: https://github.com/scikit-learn/scikit-learn/issues/21755 */\n",
       "  display: inline-block !important;\n",
       "  position: relative;\n",
       "}\n",
       "\n",
       "#sk-container-id-1 div.sk-text-repr-fallback {\n",
       "  display: none;\n",
       "}\n",
       "\n",
       "div.sk-parallel-item,\n",
       "div.sk-serial,\n",
       "div.sk-item {\n",
       "  /* draw centered vertical line to link estimators */\n",
       "  background-image: linear-gradient(var(--sklearn-color-text-on-default-background), var(--sklearn-color-text-on-default-background));\n",
       "  background-size: 2px 100%;\n",
       "  background-repeat: no-repeat;\n",
       "  background-position: center center;\n",
       "}\n",
       "\n",
       "/* Parallel-specific style estimator block */\n",
       "\n",
       "#sk-container-id-1 div.sk-parallel-item::after {\n",
       "  content: \"\";\n",
       "  width: 100%;\n",
       "  border-bottom: 2px solid var(--sklearn-color-text-on-default-background);\n",
       "  flex-grow: 1;\n",
       "}\n",
       "\n",
       "#sk-container-id-1 div.sk-parallel {\n",
       "  display: flex;\n",
       "  align-items: stretch;\n",
       "  justify-content: center;\n",
       "  background-color: var(--sklearn-color-background);\n",
       "  position: relative;\n",
       "}\n",
       "\n",
       "#sk-container-id-1 div.sk-parallel-item {\n",
       "  display: flex;\n",
       "  flex-direction: column;\n",
       "}\n",
       "\n",
       "#sk-container-id-1 div.sk-parallel-item:first-child::after {\n",
       "  align-self: flex-end;\n",
       "  width: 50%;\n",
       "}\n",
       "\n",
       "#sk-container-id-1 div.sk-parallel-item:last-child::after {\n",
       "  align-self: flex-start;\n",
       "  width: 50%;\n",
       "}\n",
       "\n",
       "#sk-container-id-1 div.sk-parallel-item:only-child::after {\n",
       "  width: 0;\n",
       "}\n",
       "\n",
       "/* Serial-specific style estimator block */\n",
       "\n",
       "#sk-container-id-1 div.sk-serial {\n",
       "  display: flex;\n",
       "  flex-direction: column;\n",
       "  align-items: center;\n",
       "  background-color: var(--sklearn-color-background);\n",
       "  padding-right: 1em;\n",
       "  padding-left: 1em;\n",
       "}\n",
       "\n",
       "\n",
       "/* Toggleable style: style used for estimator/Pipeline/ColumnTransformer box that is\n",
       "clickable and can be expanded/collapsed.\n",
       "- Pipeline and ColumnTransformer use this feature and define the default style\n",
       "- Estimators will overwrite some part of the style using the `sk-estimator` class\n",
       "*/\n",
       "\n",
       "/* Pipeline and ColumnTransformer style (default) */\n",
       "\n",
       "#sk-container-id-1 div.sk-toggleable {\n",
       "  /* Default theme specific background. It is overwritten whether we have a\n",
       "  specific estimator or a Pipeline/ColumnTransformer */\n",
       "  background-color: var(--sklearn-color-background);\n",
       "}\n",
       "\n",
       "/* Toggleable label */\n",
       "#sk-container-id-1 label.sk-toggleable__label {\n",
       "  cursor: pointer;\n",
       "  display: block;\n",
       "  width: 100%;\n",
       "  margin-bottom: 0;\n",
       "  padding: 0.5em;\n",
       "  box-sizing: border-box;\n",
       "  text-align: center;\n",
       "}\n",
       "\n",
       "#sk-container-id-1 label.sk-toggleable__label-arrow:before {\n",
       "  /* Arrow on the left of the label */\n",
       "  content: \"▸\";\n",
       "  float: left;\n",
       "  margin-right: 0.25em;\n",
       "  color: var(--sklearn-color-icon);\n",
       "}\n",
       "\n",
       "#sk-container-id-1 label.sk-toggleable__label-arrow:hover:before {\n",
       "  color: var(--sklearn-color-text);\n",
       "}\n",
       "\n",
       "/* Toggleable content - dropdown */\n",
       "\n",
       "#sk-container-id-1 div.sk-toggleable__content {\n",
       "  max-height: 0;\n",
       "  max-width: 0;\n",
       "  overflow: hidden;\n",
       "  text-align: left;\n",
       "  /* unfitted */\n",
       "  background-color: var(--sklearn-color-unfitted-level-0);\n",
       "}\n",
       "\n",
       "#sk-container-id-1 div.sk-toggleable__content.fitted {\n",
       "  /* fitted */\n",
       "  background-color: var(--sklearn-color-fitted-level-0);\n",
       "}\n",
       "\n",
       "#sk-container-id-1 div.sk-toggleable__content pre {\n",
       "  margin: 0.2em;\n",
       "  border-radius: 0.25em;\n",
       "  color: var(--sklearn-color-text);\n",
       "  /* unfitted */\n",
       "  background-color: var(--sklearn-color-unfitted-level-0);\n",
       "}\n",
       "\n",
       "#sk-container-id-1 div.sk-toggleable__content.fitted pre {\n",
       "  /* unfitted */\n",
       "  background-color: var(--sklearn-color-fitted-level-0);\n",
       "}\n",
       "\n",
       "#sk-container-id-1 input.sk-toggleable__control:checked~div.sk-toggleable__content {\n",
       "  /* Expand drop-down */\n",
       "  max-height: 200px;\n",
       "  max-width: 100%;\n",
       "  overflow: auto;\n",
       "}\n",
       "\n",
       "#sk-container-id-1 input.sk-toggleable__control:checked~label.sk-toggleable__label-arrow:before {\n",
       "  content: \"▾\";\n",
       "}\n",
       "\n",
       "/* Pipeline/ColumnTransformer-specific style */\n",
       "\n",
       "#sk-container-id-1 div.sk-label input.sk-toggleable__control:checked~label.sk-toggleable__label {\n",
       "  color: var(--sklearn-color-text);\n",
       "  background-color: var(--sklearn-color-unfitted-level-2);\n",
       "}\n",
       "\n",
       "#sk-container-id-1 div.sk-label.fitted input.sk-toggleable__control:checked~label.sk-toggleable__label {\n",
       "  background-color: var(--sklearn-color-fitted-level-2);\n",
       "}\n",
       "\n",
       "/* Estimator-specific style */\n",
       "\n",
       "/* Colorize estimator box */\n",
       "#sk-container-id-1 div.sk-estimator input.sk-toggleable__control:checked~label.sk-toggleable__label {\n",
       "  /* unfitted */\n",
       "  background-color: var(--sklearn-color-unfitted-level-2);\n",
       "}\n",
       "\n",
       "#sk-container-id-1 div.sk-estimator.fitted input.sk-toggleable__control:checked~label.sk-toggleable__label {\n",
       "  /* fitted */\n",
       "  background-color: var(--sklearn-color-fitted-level-2);\n",
       "}\n",
       "\n",
       "#sk-container-id-1 div.sk-label label.sk-toggleable__label,\n",
       "#sk-container-id-1 div.sk-label label {\n",
       "  /* The background is the default theme color */\n",
       "  color: var(--sklearn-color-text-on-default-background);\n",
       "}\n",
       "\n",
       "/* On hover, darken the color of the background */\n",
       "#sk-container-id-1 div.sk-label:hover label.sk-toggleable__label {\n",
       "  color: var(--sklearn-color-text);\n",
       "  background-color: var(--sklearn-color-unfitted-level-2);\n",
       "}\n",
       "\n",
       "/* Label box, darken color on hover, fitted */\n",
       "#sk-container-id-1 div.sk-label.fitted:hover label.sk-toggleable__label.fitted {\n",
       "  color: var(--sklearn-color-text);\n",
       "  background-color: var(--sklearn-color-fitted-level-2);\n",
       "}\n",
       "\n",
       "/* Estimator label */\n",
       "\n",
       "#sk-container-id-1 div.sk-label label {\n",
       "  font-family: monospace;\n",
       "  font-weight: bold;\n",
       "  display: inline-block;\n",
       "  line-height: 1.2em;\n",
       "}\n",
       "\n",
       "#sk-container-id-1 div.sk-label-container {\n",
       "  text-align: center;\n",
       "}\n",
       "\n",
       "/* Estimator-specific */\n",
       "#sk-container-id-1 div.sk-estimator {\n",
       "  font-family: monospace;\n",
       "  border: 1px dotted var(--sklearn-color-border-box);\n",
       "  border-radius: 0.25em;\n",
       "  box-sizing: border-box;\n",
       "  margin-bottom: 0.5em;\n",
       "  /* unfitted */\n",
       "  background-color: var(--sklearn-color-unfitted-level-0);\n",
       "}\n",
       "\n",
       "#sk-container-id-1 div.sk-estimator.fitted {\n",
       "  /* fitted */\n",
       "  background-color: var(--sklearn-color-fitted-level-0);\n",
       "}\n",
       "\n",
       "/* on hover */\n",
       "#sk-container-id-1 div.sk-estimator:hover {\n",
       "  /* unfitted */\n",
       "  background-color: var(--sklearn-color-unfitted-level-2);\n",
       "}\n",
       "\n",
       "#sk-container-id-1 div.sk-estimator.fitted:hover {\n",
       "  /* fitted */\n",
       "  background-color: var(--sklearn-color-fitted-level-2);\n",
       "}\n",
       "\n",
       "/* Specification for estimator info (e.g. \"i\" and \"?\") */\n",
       "\n",
       "/* Common style for \"i\" and \"?\" */\n",
       "\n",
       ".sk-estimator-doc-link,\n",
       "a:link.sk-estimator-doc-link,\n",
       "a:visited.sk-estimator-doc-link {\n",
       "  float: right;\n",
       "  font-size: smaller;\n",
       "  line-height: 1em;\n",
       "  font-family: monospace;\n",
       "  background-color: var(--sklearn-color-background);\n",
       "  border-radius: 1em;\n",
       "  height: 1em;\n",
       "  width: 1em;\n",
       "  text-decoration: none !important;\n",
       "  margin-left: 1ex;\n",
       "  /* unfitted */\n",
       "  border: var(--sklearn-color-unfitted-level-1) 1pt solid;\n",
       "  color: var(--sklearn-color-unfitted-level-1);\n",
       "}\n",
       "\n",
       ".sk-estimator-doc-link.fitted,\n",
       "a:link.sk-estimator-doc-link.fitted,\n",
       "a:visited.sk-estimator-doc-link.fitted {\n",
       "  /* fitted */\n",
       "  border: var(--sklearn-color-fitted-level-1) 1pt solid;\n",
       "  color: var(--sklearn-color-fitted-level-1);\n",
       "}\n",
       "\n",
       "/* On hover */\n",
       "div.sk-estimator:hover .sk-estimator-doc-link:hover,\n",
       ".sk-estimator-doc-link:hover,\n",
       "div.sk-label-container:hover .sk-estimator-doc-link:hover,\n",
       ".sk-estimator-doc-link:hover {\n",
       "  /* unfitted */\n",
       "  background-color: var(--sklearn-color-unfitted-level-3);\n",
       "  color: var(--sklearn-color-background);\n",
       "  text-decoration: none;\n",
       "}\n",
       "\n",
       "div.sk-estimator.fitted:hover .sk-estimator-doc-link.fitted:hover,\n",
       ".sk-estimator-doc-link.fitted:hover,\n",
       "div.sk-label-container:hover .sk-estimator-doc-link.fitted:hover,\n",
       ".sk-estimator-doc-link.fitted:hover {\n",
       "  /* fitted */\n",
       "  background-color: var(--sklearn-color-fitted-level-3);\n",
       "  color: var(--sklearn-color-background);\n",
       "  text-decoration: none;\n",
       "}\n",
       "\n",
       "/* Span, style for the box shown on hovering the info icon */\n",
       ".sk-estimator-doc-link span {\n",
       "  display: none;\n",
       "  z-index: 9999;\n",
       "  position: relative;\n",
       "  font-weight: normal;\n",
       "  right: .2ex;\n",
       "  padding: .5ex;\n",
       "  margin: .5ex;\n",
       "  width: min-content;\n",
       "  min-width: 20ex;\n",
       "  max-width: 50ex;\n",
       "  color: var(--sklearn-color-text);\n",
       "  box-shadow: 2pt 2pt 4pt #999;\n",
       "  /* unfitted */\n",
       "  background: var(--sklearn-color-unfitted-level-0);\n",
       "  border: .5pt solid var(--sklearn-color-unfitted-level-3);\n",
       "}\n",
       "\n",
       ".sk-estimator-doc-link.fitted span {\n",
       "  /* fitted */\n",
       "  background: var(--sklearn-color-fitted-level-0);\n",
       "  border: var(--sklearn-color-fitted-level-3);\n",
       "}\n",
       "\n",
       ".sk-estimator-doc-link:hover span {\n",
       "  display: block;\n",
       "}\n",
       "\n",
       "/* \"?\"-specific style due to the `<a>` HTML tag */\n",
       "\n",
       "#sk-container-id-1 a.estimator_doc_link {\n",
       "  float: right;\n",
       "  font-size: 1rem;\n",
       "  line-height: 1em;\n",
       "  font-family: monospace;\n",
       "  background-color: var(--sklearn-color-background);\n",
       "  border-radius: 1rem;\n",
       "  height: 1rem;\n",
       "  width: 1rem;\n",
       "  text-decoration: none;\n",
       "  /* unfitted */\n",
       "  color: var(--sklearn-color-unfitted-level-1);\n",
       "  border: var(--sklearn-color-unfitted-level-1) 1pt solid;\n",
       "}\n",
       "\n",
       "#sk-container-id-1 a.estimator_doc_link.fitted {\n",
       "  /* fitted */\n",
       "  border: var(--sklearn-color-fitted-level-1) 1pt solid;\n",
       "  color: var(--sklearn-color-fitted-level-1);\n",
       "}\n",
       "\n",
       "/* On hover */\n",
       "#sk-container-id-1 a.estimator_doc_link:hover {\n",
       "  /* unfitted */\n",
       "  background-color: var(--sklearn-color-unfitted-level-3);\n",
       "  color: var(--sklearn-color-background);\n",
       "  text-decoration: none;\n",
       "}\n",
       "\n",
       "#sk-container-id-1 a.estimator_doc_link.fitted:hover {\n",
       "  /* fitted */\n",
       "  background-color: var(--sklearn-color-fitted-level-3);\n",
       "}\n",
       "</style><div id=\"sk-container-id-1\" class=\"sk-top-container\"><div class=\"sk-text-repr-fallback\"><pre>MinMaxScaler()</pre><b>In a Jupyter environment, please rerun this cell to show the HTML representation or trust the notebook. <br />On GitHub, the HTML representation is unable to render, please try loading this page with nbviewer.org.</b></div><div class=\"sk-container\" hidden><div class=\"sk-item\"><div class=\"sk-estimator fitted sk-toggleable\"><input class=\"sk-toggleable__control sk-hidden--visually\" id=\"sk-estimator-id-1\" type=\"checkbox\" checked><label for=\"sk-estimator-id-1\" class=\"sk-toggleable__label fitted sk-toggleable__label-arrow fitted\">&nbsp;&nbsp;MinMaxScaler<a class=\"sk-estimator-doc-link fitted\" rel=\"noreferrer\" target=\"_blank\" href=\"https://scikit-learn.org/1.5/modules/generated/sklearn.preprocessing.MinMaxScaler.html\">?<span>Documentation for MinMaxScaler</span></a><span class=\"sk-estimator-doc-link fitted\">i<span>Fitted</span></span></label><div class=\"sk-toggleable__content fitted\"><pre>MinMaxScaler()</pre></div> </div></div></div></div>"
      ],
      "text/plain": [
       "MinMaxScaler()"
      ]
     },
     "execution_count": 29,
     "metadata": {},
     "output_type": "execute_result"
    }
   ],
   "source": [
    "train_minmax = MinMaxScaler() ## Initialise scaler\n",
    "train_minmax.fit(X_train_fe)"
   ]
  },
  {
   "cell_type": "code",
   "execution_count": 30,
   "id": "ebab65bd-c54b-4ea5-a694-5c79a786394c",
   "metadata": {},
   "outputs": [],
   "source": [
    "def max_min(df):\n",
    "    global train_minmax\n",
    "    df=df.copy()\n",
    "    df = train_minmax.transform(df)\n",
    "    return df"
   ]
  },
  {
   "cell_type": "code",
   "execution_count": 31,
   "id": "fc35e82c-d2db-4faf-bf97-61be0830cadd",
   "metadata": {},
   "outputs": [],
   "source": [
    "X_train_fe_scaled = pd.DataFrame(max_min(X_train_fe), index = X_train_fe.index, columns = X_train_fe.columns)"
   ]
  },
  {
   "cell_type": "code",
   "execution_count": 32,
   "id": "a931b940-109c-4fa5-879b-cceee09823d4",
   "metadata": {},
   "outputs": [
    {
     "data": {
      "text/html": [
       "<div>\n",
       "<style scoped>\n",
       "    .dataframe tbody tr th:only-of-type {\n",
       "        vertical-align: middle;\n",
       "    }\n",
       "\n",
       "    .dataframe tbody tr th {\n",
       "        vertical-align: top;\n",
       "    }\n",
       "\n",
       "    .dataframe thead th {\n",
       "        text-align: right;\n",
       "    }\n",
       "</style>\n",
       "<table border=\"1\" class=\"dataframe\">\n",
       "  <thead>\n",
       "    <tr style=\"text-align: right;\">\n",
       "      <th></th>\n",
       "      <th>Latitude</th>\n",
       "      <th>Longitude</th>\n",
       "      <th>Gender</th>\n",
       "      <th>Senior Citizen</th>\n",
       "      <th>Partner</th>\n",
       "      <th>Dependents</th>\n",
       "      <th>Tenure Months</th>\n",
       "      <th>Phone Service</th>\n",
       "      <th>Multiple Lines</th>\n",
       "      <th>Online Security</th>\n",
       "      <th>...</th>\n",
       "      <th>Streaming Movies</th>\n",
       "      <th>Contract</th>\n",
       "      <th>Paperless Billing</th>\n",
       "      <th>Monthly Charges</th>\n",
       "      <th>Total Charges</th>\n",
       "      <th>Internet Service_Fiber optic</th>\n",
       "      <th>Internet Service_No</th>\n",
       "      <th>Payment Method_Credit card (automatic)</th>\n",
       "      <th>Payment Method_Electronic check</th>\n",
       "      <th>Payment Method_Mailed check</th>\n",
       "    </tr>\n",
       "  </thead>\n",
       "  <tbody>\n",
       "    <tr>\n",
       "      <th>2142</th>\n",
       "      <td>0.026273</td>\n",
       "      <td>0.719622</td>\n",
       "      <td>0.0</td>\n",
       "      <td>0.0</td>\n",
       "      <td>1.0</td>\n",
       "      <td>0.0</td>\n",
       "      <td>0.986111</td>\n",
       "      <td>1.0</td>\n",
       "      <td>1.0</td>\n",
       "      <td>0.0</td>\n",
       "      <td>...</td>\n",
       "      <td>1.0</td>\n",
       "      <td>0.478261</td>\n",
       "      <td>1.0</td>\n",
       "      <td>0.801196</td>\n",
       "      <td>0.801728</td>\n",
       "      <td>1.0</td>\n",
       "      <td>0.0</td>\n",
       "      <td>1.0</td>\n",
       "      <td>0.0</td>\n",
       "      <td>0.0</td>\n",
       "    </tr>\n",
       "    <tr>\n",
       "      <th>1623</th>\n",
       "      <td>0.562589</td>\n",
       "      <td>0.377385</td>\n",
       "      <td>1.0</td>\n",
       "      <td>0.0</td>\n",
       "      <td>0.0</td>\n",
       "      <td>0.0</td>\n",
       "      <td>0.222222</td>\n",
       "      <td>1.0</td>\n",
       "      <td>0.0</td>\n",
       "      <td>0.0</td>\n",
       "      <td>...</td>\n",
       "      <td>1.0</td>\n",
       "      <td>0.000000</td>\n",
       "      <td>1.0</td>\n",
       "      <td>0.746886</td>\n",
       "      <td>0.181202</td>\n",
       "      <td>1.0</td>\n",
       "      <td>0.0</td>\n",
       "      <td>1.0</td>\n",
       "      <td>0.0</td>\n",
       "      <td>0.0</td>\n",
       "    </tr>\n",
       "    <tr>\n",
       "      <th>6074</th>\n",
       "      <td>0.207249</td>\n",
       "      <td>0.627822</td>\n",
       "      <td>1.0</td>\n",
       "      <td>0.0</td>\n",
       "      <td>0.0</td>\n",
       "      <td>0.0</td>\n",
       "      <td>0.444444</td>\n",
       "      <td>1.0</td>\n",
       "      <td>1.0</td>\n",
       "      <td>0.0</td>\n",
       "      <td>...</td>\n",
       "      <td>1.0</td>\n",
       "      <td>0.478261</td>\n",
       "      <td>1.0</td>\n",
       "      <td>0.855007</td>\n",
       "      <td>0.393429</td>\n",
       "      <td>1.0</td>\n",
       "      <td>0.0</td>\n",
       "      <td>1.0</td>\n",
       "      <td>0.0</td>\n",
       "      <td>0.0</td>\n",
       "    </tr>\n",
       "    <tr>\n",
       "      <th>1362</th>\n",
       "      <td>0.162030</td>\n",
       "      <td>0.618756</td>\n",
       "      <td>1.0</td>\n",
       "      <td>1.0</td>\n",
       "      <td>1.0</td>\n",
       "      <td>0.0</td>\n",
       "      <td>0.333333</td>\n",
       "      <td>0.0</td>\n",
       "      <td>0.0</td>\n",
       "      <td>0.0</td>\n",
       "      <td>...</td>\n",
       "      <td>1.0</td>\n",
       "      <td>0.000000</td>\n",
       "      <td>1.0</td>\n",
       "      <td>0.223219</td>\n",
       "      <td>0.107464</td>\n",
       "      <td>0.0</td>\n",
       "      <td>0.0</td>\n",
       "      <td>1.0</td>\n",
       "      <td>0.0</td>\n",
       "      <td>0.0</td>\n",
       "    </tr>\n",
       "    <tr>\n",
       "      <th>6754</th>\n",
       "      <td>0.152314</td>\n",
       "      <td>0.590326</td>\n",
       "      <td>1.0</td>\n",
       "      <td>0.0</td>\n",
       "      <td>1.0</td>\n",
       "      <td>1.0</td>\n",
       "      <td>0.277778</td>\n",
       "      <td>1.0</td>\n",
       "      <td>0.0</td>\n",
       "      <td>0.0</td>\n",
       "      <td>...</td>\n",
       "      <td>0.0</td>\n",
       "      <td>0.000000</td>\n",
       "      <td>0.0</td>\n",
       "      <td>0.017937</td>\n",
       "      <td>0.046754</td>\n",
       "      <td>0.0</td>\n",
       "      <td>1.0</td>\n",
       "      <td>0.0</td>\n",
       "      <td>0.0</td>\n",
       "      <td>1.0</td>\n",
       "    </tr>\n",
       "  </tbody>\n",
       "</table>\n",
       "<p>5 rows × 24 columns</p>\n",
       "</div>"
      ],
      "text/plain": [
       "      Latitude  Longitude  Gender  Senior Citizen  Partner  Dependents  \\\n",
       "2142  0.026273   0.719622     0.0             0.0      1.0         0.0   \n",
       "1623  0.562589   0.377385     1.0             0.0      0.0         0.0   \n",
       "6074  0.207249   0.627822     1.0             0.0      0.0         0.0   \n",
       "1362  0.162030   0.618756     1.0             1.0      1.0         0.0   \n",
       "6754  0.152314   0.590326     1.0             0.0      1.0         1.0   \n",
       "\n",
       "      Tenure Months  Phone Service  Multiple Lines  Online Security  ...  \\\n",
       "2142       0.986111            1.0             1.0              0.0  ...   \n",
       "1623       0.222222            1.0             0.0              0.0  ...   \n",
       "6074       0.444444            1.0             1.0              0.0  ...   \n",
       "1362       0.333333            0.0             0.0              0.0  ...   \n",
       "6754       0.277778            1.0             0.0              0.0  ...   \n",
       "\n",
       "      Streaming Movies  Contract  Paperless Billing  Monthly Charges  \\\n",
       "2142               1.0  0.478261                1.0         0.801196   \n",
       "1623               1.0  0.000000                1.0         0.746886   \n",
       "6074               1.0  0.478261                1.0         0.855007   \n",
       "1362               1.0  0.000000                1.0         0.223219   \n",
       "6754               0.0  0.000000                0.0         0.017937   \n",
       "\n",
       "      Total Charges  Internet Service_Fiber optic  Internet Service_No  \\\n",
       "2142       0.801728                           1.0                  0.0   \n",
       "1623       0.181202                           1.0                  0.0   \n",
       "6074       0.393429                           1.0                  0.0   \n",
       "1362       0.107464                           0.0                  0.0   \n",
       "6754       0.046754                           0.0                  1.0   \n",
       "\n",
       "      Payment Method_Credit card (automatic)  Payment Method_Electronic check  \\\n",
       "2142                                     1.0                              0.0   \n",
       "1623                                     1.0                              0.0   \n",
       "6074                                     1.0                              0.0   \n",
       "1362                                     1.0                              0.0   \n",
       "6754                                     0.0                              0.0   \n",
       "\n",
       "      Payment Method_Mailed check  \n",
       "2142                          0.0  \n",
       "1623                          0.0  \n",
       "6074                          0.0  \n",
       "1362                          0.0  \n",
       "6754                          1.0  \n",
       "\n",
       "[5 rows x 24 columns]"
      ]
     },
     "execution_count": 32,
     "metadata": {},
     "output_type": "execute_result"
    }
   ],
   "source": [
    "X_train_fe_scaled.head()"
   ]
  },
  {
   "cell_type": "code",
   "execution_count": null,
   "id": "db1bd61d-713c-41f5-a057-892902404249",
   "metadata": {},
   "outputs": [],
   "source": []
  },
  {
   "cell_type": "markdown",
   "id": "91f82221-a640-490d-a418-365ded81522f",
   "metadata": {},
   "source": [
    "## **Modeling**"
   ]
  },
  {
   "cell_type": "code",
   "execution_count": 33,
   "id": "8b8b8511-2d05-45ab-ab9a-7f39b92f4cba",
   "metadata": {},
   "outputs": [],
   "source": [
    "lr = LogisticRegression(max_iter=300, random_state=10)"
   ]
  },
  {
   "cell_type": "code",
   "execution_count": 34,
   "id": "1ea484a0-e743-4d69-afef-1a6df2444016",
   "metadata": {},
   "outputs": [
    {
     "data": {
      "text/html": [
       "<style>#sk-container-id-2 {\n",
       "  /* Definition of color scheme common for light and dark mode */\n",
       "  --sklearn-color-text: black;\n",
       "  --sklearn-color-line: gray;\n",
       "  /* Definition of color scheme for unfitted estimators */\n",
       "  --sklearn-color-unfitted-level-0: #fff5e6;\n",
       "  --sklearn-color-unfitted-level-1: #f6e4d2;\n",
       "  --sklearn-color-unfitted-level-2: #ffe0b3;\n",
       "  --sklearn-color-unfitted-level-3: chocolate;\n",
       "  /* Definition of color scheme for fitted estimators */\n",
       "  --sklearn-color-fitted-level-0: #f0f8ff;\n",
       "  --sklearn-color-fitted-level-1: #d4ebff;\n",
       "  --sklearn-color-fitted-level-2: #b3dbfd;\n",
       "  --sklearn-color-fitted-level-3: cornflowerblue;\n",
       "\n",
       "  /* Specific color for light theme */\n",
       "  --sklearn-color-text-on-default-background: var(--sg-text-color, var(--theme-code-foreground, var(--jp-content-font-color1, black)));\n",
       "  --sklearn-color-background: var(--sg-background-color, var(--theme-background, var(--jp-layout-color0, white)));\n",
       "  --sklearn-color-border-box: var(--sg-text-color, var(--theme-code-foreground, var(--jp-content-font-color1, black)));\n",
       "  --sklearn-color-icon: #696969;\n",
       "\n",
       "  @media (prefers-color-scheme: dark) {\n",
       "    /* Redefinition of color scheme for dark theme */\n",
       "    --sklearn-color-text-on-default-background: var(--sg-text-color, var(--theme-code-foreground, var(--jp-content-font-color1, white)));\n",
       "    --sklearn-color-background: var(--sg-background-color, var(--theme-background, var(--jp-layout-color0, #111)));\n",
       "    --sklearn-color-border-box: var(--sg-text-color, var(--theme-code-foreground, var(--jp-content-font-color1, white)));\n",
       "    --sklearn-color-icon: #878787;\n",
       "  }\n",
       "}\n",
       "\n",
       "#sk-container-id-2 {\n",
       "  color: var(--sklearn-color-text);\n",
       "}\n",
       "\n",
       "#sk-container-id-2 pre {\n",
       "  padding: 0;\n",
       "}\n",
       "\n",
       "#sk-container-id-2 input.sk-hidden--visually {\n",
       "  border: 0;\n",
       "  clip: rect(1px 1px 1px 1px);\n",
       "  clip: rect(1px, 1px, 1px, 1px);\n",
       "  height: 1px;\n",
       "  margin: -1px;\n",
       "  overflow: hidden;\n",
       "  padding: 0;\n",
       "  position: absolute;\n",
       "  width: 1px;\n",
       "}\n",
       "\n",
       "#sk-container-id-2 div.sk-dashed-wrapped {\n",
       "  border: 1px dashed var(--sklearn-color-line);\n",
       "  margin: 0 0.4em 0.5em 0.4em;\n",
       "  box-sizing: border-box;\n",
       "  padding-bottom: 0.4em;\n",
       "  background-color: var(--sklearn-color-background);\n",
       "}\n",
       "\n",
       "#sk-container-id-2 div.sk-container {\n",
       "  /* jupyter's `normalize.less` sets `[hidden] { display: none; }`\n",
       "     but bootstrap.min.css set `[hidden] { display: none !important; }`\n",
       "     so we also need the `!important` here to be able to override the\n",
       "     default hidden behavior on the sphinx rendered scikit-learn.org.\n",
       "     See: https://github.com/scikit-learn/scikit-learn/issues/21755 */\n",
       "  display: inline-block !important;\n",
       "  position: relative;\n",
       "}\n",
       "\n",
       "#sk-container-id-2 div.sk-text-repr-fallback {\n",
       "  display: none;\n",
       "}\n",
       "\n",
       "div.sk-parallel-item,\n",
       "div.sk-serial,\n",
       "div.sk-item {\n",
       "  /* draw centered vertical line to link estimators */\n",
       "  background-image: linear-gradient(var(--sklearn-color-text-on-default-background), var(--sklearn-color-text-on-default-background));\n",
       "  background-size: 2px 100%;\n",
       "  background-repeat: no-repeat;\n",
       "  background-position: center center;\n",
       "}\n",
       "\n",
       "/* Parallel-specific style estimator block */\n",
       "\n",
       "#sk-container-id-2 div.sk-parallel-item::after {\n",
       "  content: \"\";\n",
       "  width: 100%;\n",
       "  border-bottom: 2px solid var(--sklearn-color-text-on-default-background);\n",
       "  flex-grow: 1;\n",
       "}\n",
       "\n",
       "#sk-container-id-2 div.sk-parallel {\n",
       "  display: flex;\n",
       "  align-items: stretch;\n",
       "  justify-content: center;\n",
       "  background-color: var(--sklearn-color-background);\n",
       "  position: relative;\n",
       "}\n",
       "\n",
       "#sk-container-id-2 div.sk-parallel-item {\n",
       "  display: flex;\n",
       "  flex-direction: column;\n",
       "}\n",
       "\n",
       "#sk-container-id-2 div.sk-parallel-item:first-child::after {\n",
       "  align-self: flex-end;\n",
       "  width: 50%;\n",
       "}\n",
       "\n",
       "#sk-container-id-2 div.sk-parallel-item:last-child::after {\n",
       "  align-self: flex-start;\n",
       "  width: 50%;\n",
       "}\n",
       "\n",
       "#sk-container-id-2 div.sk-parallel-item:only-child::after {\n",
       "  width: 0;\n",
       "}\n",
       "\n",
       "/* Serial-specific style estimator block */\n",
       "\n",
       "#sk-container-id-2 div.sk-serial {\n",
       "  display: flex;\n",
       "  flex-direction: column;\n",
       "  align-items: center;\n",
       "  background-color: var(--sklearn-color-background);\n",
       "  padding-right: 1em;\n",
       "  padding-left: 1em;\n",
       "}\n",
       "\n",
       "\n",
       "/* Toggleable style: style used for estimator/Pipeline/ColumnTransformer box that is\n",
       "clickable and can be expanded/collapsed.\n",
       "- Pipeline and ColumnTransformer use this feature and define the default style\n",
       "- Estimators will overwrite some part of the style using the `sk-estimator` class\n",
       "*/\n",
       "\n",
       "/* Pipeline and ColumnTransformer style (default) */\n",
       "\n",
       "#sk-container-id-2 div.sk-toggleable {\n",
       "  /* Default theme specific background. It is overwritten whether we have a\n",
       "  specific estimator or a Pipeline/ColumnTransformer */\n",
       "  background-color: var(--sklearn-color-background);\n",
       "}\n",
       "\n",
       "/* Toggleable label */\n",
       "#sk-container-id-2 label.sk-toggleable__label {\n",
       "  cursor: pointer;\n",
       "  display: block;\n",
       "  width: 100%;\n",
       "  margin-bottom: 0;\n",
       "  padding: 0.5em;\n",
       "  box-sizing: border-box;\n",
       "  text-align: center;\n",
       "}\n",
       "\n",
       "#sk-container-id-2 label.sk-toggleable__label-arrow:before {\n",
       "  /* Arrow on the left of the label */\n",
       "  content: \"▸\";\n",
       "  float: left;\n",
       "  margin-right: 0.25em;\n",
       "  color: var(--sklearn-color-icon);\n",
       "}\n",
       "\n",
       "#sk-container-id-2 label.sk-toggleable__label-arrow:hover:before {\n",
       "  color: var(--sklearn-color-text);\n",
       "}\n",
       "\n",
       "/* Toggleable content - dropdown */\n",
       "\n",
       "#sk-container-id-2 div.sk-toggleable__content {\n",
       "  max-height: 0;\n",
       "  max-width: 0;\n",
       "  overflow: hidden;\n",
       "  text-align: left;\n",
       "  /* unfitted */\n",
       "  background-color: var(--sklearn-color-unfitted-level-0);\n",
       "}\n",
       "\n",
       "#sk-container-id-2 div.sk-toggleable__content.fitted {\n",
       "  /* fitted */\n",
       "  background-color: var(--sklearn-color-fitted-level-0);\n",
       "}\n",
       "\n",
       "#sk-container-id-2 div.sk-toggleable__content pre {\n",
       "  margin: 0.2em;\n",
       "  border-radius: 0.25em;\n",
       "  color: var(--sklearn-color-text);\n",
       "  /* unfitted */\n",
       "  background-color: var(--sklearn-color-unfitted-level-0);\n",
       "}\n",
       "\n",
       "#sk-container-id-2 div.sk-toggleable__content.fitted pre {\n",
       "  /* unfitted */\n",
       "  background-color: var(--sklearn-color-fitted-level-0);\n",
       "}\n",
       "\n",
       "#sk-container-id-2 input.sk-toggleable__control:checked~div.sk-toggleable__content {\n",
       "  /* Expand drop-down */\n",
       "  max-height: 200px;\n",
       "  max-width: 100%;\n",
       "  overflow: auto;\n",
       "}\n",
       "\n",
       "#sk-container-id-2 input.sk-toggleable__control:checked~label.sk-toggleable__label-arrow:before {\n",
       "  content: \"▾\";\n",
       "}\n",
       "\n",
       "/* Pipeline/ColumnTransformer-specific style */\n",
       "\n",
       "#sk-container-id-2 div.sk-label input.sk-toggleable__control:checked~label.sk-toggleable__label {\n",
       "  color: var(--sklearn-color-text);\n",
       "  background-color: var(--sklearn-color-unfitted-level-2);\n",
       "}\n",
       "\n",
       "#sk-container-id-2 div.sk-label.fitted input.sk-toggleable__control:checked~label.sk-toggleable__label {\n",
       "  background-color: var(--sklearn-color-fitted-level-2);\n",
       "}\n",
       "\n",
       "/* Estimator-specific style */\n",
       "\n",
       "/* Colorize estimator box */\n",
       "#sk-container-id-2 div.sk-estimator input.sk-toggleable__control:checked~label.sk-toggleable__label {\n",
       "  /* unfitted */\n",
       "  background-color: var(--sklearn-color-unfitted-level-2);\n",
       "}\n",
       "\n",
       "#sk-container-id-2 div.sk-estimator.fitted input.sk-toggleable__control:checked~label.sk-toggleable__label {\n",
       "  /* fitted */\n",
       "  background-color: var(--sklearn-color-fitted-level-2);\n",
       "}\n",
       "\n",
       "#sk-container-id-2 div.sk-label label.sk-toggleable__label,\n",
       "#sk-container-id-2 div.sk-label label {\n",
       "  /* The background is the default theme color */\n",
       "  color: var(--sklearn-color-text-on-default-background);\n",
       "}\n",
       "\n",
       "/* On hover, darken the color of the background */\n",
       "#sk-container-id-2 div.sk-label:hover label.sk-toggleable__label {\n",
       "  color: var(--sklearn-color-text);\n",
       "  background-color: var(--sklearn-color-unfitted-level-2);\n",
       "}\n",
       "\n",
       "/* Label box, darken color on hover, fitted */\n",
       "#sk-container-id-2 div.sk-label.fitted:hover label.sk-toggleable__label.fitted {\n",
       "  color: var(--sklearn-color-text);\n",
       "  background-color: var(--sklearn-color-fitted-level-2);\n",
       "}\n",
       "\n",
       "/* Estimator label */\n",
       "\n",
       "#sk-container-id-2 div.sk-label label {\n",
       "  font-family: monospace;\n",
       "  font-weight: bold;\n",
       "  display: inline-block;\n",
       "  line-height: 1.2em;\n",
       "}\n",
       "\n",
       "#sk-container-id-2 div.sk-label-container {\n",
       "  text-align: center;\n",
       "}\n",
       "\n",
       "/* Estimator-specific */\n",
       "#sk-container-id-2 div.sk-estimator {\n",
       "  font-family: monospace;\n",
       "  border: 1px dotted var(--sklearn-color-border-box);\n",
       "  border-radius: 0.25em;\n",
       "  box-sizing: border-box;\n",
       "  margin-bottom: 0.5em;\n",
       "  /* unfitted */\n",
       "  background-color: var(--sklearn-color-unfitted-level-0);\n",
       "}\n",
       "\n",
       "#sk-container-id-2 div.sk-estimator.fitted {\n",
       "  /* fitted */\n",
       "  background-color: var(--sklearn-color-fitted-level-0);\n",
       "}\n",
       "\n",
       "/* on hover */\n",
       "#sk-container-id-2 div.sk-estimator:hover {\n",
       "  /* unfitted */\n",
       "  background-color: var(--sklearn-color-unfitted-level-2);\n",
       "}\n",
       "\n",
       "#sk-container-id-2 div.sk-estimator.fitted:hover {\n",
       "  /* fitted */\n",
       "  background-color: var(--sklearn-color-fitted-level-2);\n",
       "}\n",
       "\n",
       "/* Specification for estimator info (e.g. \"i\" and \"?\") */\n",
       "\n",
       "/* Common style for \"i\" and \"?\" */\n",
       "\n",
       ".sk-estimator-doc-link,\n",
       "a:link.sk-estimator-doc-link,\n",
       "a:visited.sk-estimator-doc-link {\n",
       "  float: right;\n",
       "  font-size: smaller;\n",
       "  line-height: 1em;\n",
       "  font-family: monospace;\n",
       "  background-color: var(--sklearn-color-background);\n",
       "  border-radius: 1em;\n",
       "  height: 1em;\n",
       "  width: 1em;\n",
       "  text-decoration: none !important;\n",
       "  margin-left: 1ex;\n",
       "  /* unfitted */\n",
       "  border: var(--sklearn-color-unfitted-level-1) 1pt solid;\n",
       "  color: var(--sklearn-color-unfitted-level-1);\n",
       "}\n",
       "\n",
       ".sk-estimator-doc-link.fitted,\n",
       "a:link.sk-estimator-doc-link.fitted,\n",
       "a:visited.sk-estimator-doc-link.fitted {\n",
       "  /* fitted */\n",
       "  border: var(--sklearn-color-fitted-level-1) 1pt solid;\n",
       "  color: var(--sklearn-color-fitted-level-1);\n",
       "}\n",
       "\n",
       "/* On hover */\n",
       "div.sk-estimator:hover .sk-estimator-doc-link:hover,\n",
       ".sk-estimator-doc-link:hover,\n",
       "div.sk-label-container:hover .sk-estimator-doc-link:hover,\n",
       ".sk-estimator-doc-link:hover {\n",
       "  /* unfitted */\n",
       "  background-color: var(--sklearn-color-unfitted-level-3);\n",
       "  color: var(--sklearn-color-background);\n",
       "  text-decoration: none;\n",
       "}\n",
       "\n",
       "div.sk-estimator.fitted:hover .sk-estimator-doc-link.fitted:hover,\n",
       ".sk-estimator-doc-link.fitted:hover,\n",
       "div.sk-label-container:hover .sk-estimator-doc-link.fitted:hover,\n",
       ".sk-estimator-doc-link.fitted:hover {\n",
       "  /* fitted */\n",
       "  background-color: var(--sklearn-color-fitted-level-3);\n",
       "  color: var(--sklearn-color-background);\n",
       "  text-decoration: none;\n",
       "}\n",
       "\n",
       "/* Span, style for the box shown on hovering the info icon */\n",
       ".sk-estimator-doc-link span {\n",
       "  display: none;\n",
       "  z-index: 9999;\n",
       "  position: relative;\n",
       "  font-weight: normal;\n",
       "  right: .2ex;\n",
       "  padding: .5ex;\n",
       "  margin: .5ex;\n",
       "  width: min-content;\n",
       "  min-width: 20ex;\n",
       "  max-width: 50ex;\n",
       "  color: var(--sklearn-color-text);\n",
       "  box-shadow: 2pt 2pt 4pt #999;\n",
       "  /* unfitted */\n",
       "  background: var(--sklearn-color-unfitted-level-0);\n",
       "  border: .5pt solid var(--sklearn-color-unfitted-level-3);\n",
       "}\n",
       "\n",
       ".sk-estimator-doc-link.fitted span {\n",
       "  /* fitted */\n",
       "  background: var(--sklearn-color-fitted-level-0);\n",
       "  border: var(--sklearn-color-fitted-level-3);\n",
       "}\n",
       "\n",
       ".sk-estimator-doc-link:hover span {\n",
       "  display: block;\n",
       "}\n",
       "\n",
       "/* \"?\"-specific style due to the `<a>` HTML tag */\n",
       "\n",
       "#sk-container-id-2 a.estimator_doc_link {\n",
       "  float: right;\n",
       "  font-size: 1rem;\n",
       "  line-height: 1em;\n",
       "  font-family: monospace;\n",
       "  background-color: var(--sklearn-color-background);\n",
       "  border-radius: 1rem;\n",
       "  height: 1rem;\n",
       "  width: 1rem;\n",
       "  text-decoration: none;\n",
       "  /* unfitted */\n",
       "  color: var(--sklearn-color-unfitted-level-1);\n",
       "  border: var(--sklearn-color-unfitted-level-1) 1pt solid;\n",
       "}\n",
       "\n",
       "#sk-container-id-2 a.estimator_doc_link.fitted {\n",
       "  /* fitted */\n",
       "  border: var(--sklearn-color-fitted-level-1) 1pt solid;\n",
       "  color: var(--sklearn-color-fitted-level-1);\n",
       "}\n",
       "\n",
       "/* On hover */\n",
       "#sk-container-id-2 a.estimator_doc_link:hover {\n",
       "  /* unfitted */\n",
       "  background-color: var(--sklearn-color-unfitted-level-3);\n",
       "  color: var(--sklearn-color-background);\n",
       "  text-decoration: none;\n",
       "}\n",
       "\n",
       "#sk-container-id-2 a.estimator_doc_link.fitted:hover {\n",
       "  /* fitted */\n",
       "  background-color: var(--sklearn-color-fitted-level-3);\n",
       "}\n",
       "</style><div id=\"sk-container-id-2\" class=\"sk-top-container\"><div class=\"sk-text-repr-fallback\"><pre>LogisticRegression(max_iter=300, random_state=10)</pre><b>In a Jupyter environment, please rerun this cell to show the HTML representation or trust the notebook. <br />On GitHub, the HTML representation is unable to render, please try loading this page with nbviewer.org.</b></div><div class=\"sk-container\" hidden><div class=\"sk-item\"><div class=\"sk-estimator fitted sk-toggleable\"><input class=\"sk-toggleable__control sk-hidden--visually\" id=\"sk-estimator-id-2\" type=\"checkbox\" checked><label for=\"sk-estimator-id-2\" class=\"sk-toggleable__label fitted sk-toggleable__label-arrow fitted\">&nbsp;&nbsp;LogisticRegression<a class=\"sk-estimator-doc-link fitted\" rel=\"noreferrer\" target=\"_blank\" href=\"https://scikit-learn.org/1.5/modules/generated/sklearn.linear_model.LogisticRegression.html\">?<span>Documentation for LogisticRegression</span></a><span class=\"sk-estimator-doc-link fitted\">i<span>Fitted</span></span></label><div class=\"sk-toggleable__content fitted\"><pre>LogisticRegression(max_iter=300, random_state=10)</pre></div> </div></div></div></div>"
      ],
      "text/plain": [
       "LogisticRegression(max_iter=300, random_state=10)"
      ]
     },
     "execution_count": 34,
     "metadata": {},
     "output_type": "execute_result"
    }
   ],
   "source": [
    "lr.fit(X_train_fe_scaled, y_train)"
   ]
  },
  {
   "cell_type": "code",
   "execution_count": 35,
   "id": "89b6aa29-3684-4a8d-b4db-89c9cae355d6",
   "metadata": {},
   "outputs": [],
   "source": [
    "results = pd.DataFrame()\n",
    "results[['prob_stay', 'prob_leave']] = lr.predict_proba(X_train_fe_scaled)"
   ]
  },
  {
   "cell_type": "code",
   "execution_count": 36,
   "id": "3376d321-3b86-423c-89c1-543d22ffd258",
   "metadata": {},
   "outputs": [],
   "source": [
    "results['y_pred'] = np.where(results['prob_leave']>.5, 1, 0)"
   ]
  },
  {
   "cell_type": "code",
   "execution_count": 37,
   "id": "39b4d101-079b-4065-8bee-90c7597e6d77",
   "metadata": {},
   "outputs": [],
   "source": [
    "def get_results(actual, predicted):\n",
    "    print(\"The confusion matrix for your predictions is:\")\n",
    "    print(metrics.confusion_matrix(actual, predicted), \"\\n\")\n",
    "    print(f'The accuracy of your model is: {metrics.accuracy_score(actual, predicted)}')\n",
    "    print(f'The recall of your model is: {metrics.recall_score(actual, predicted)}')\n",
    "    print(f'The precision of your model is: {metrics.precision_score(actual, predicted)}')\n",
    "    print(f'The F1-score of your model is: {metrics.f1_score(actual, predicted)}')"
   ]
  },
  {
   "cell_type": "code",
   "execution_count": 38,
   "id": "c13abf42-7150-4f48-86f6-3867410ff05e",
   "metadata": {},
   "outputs": [
    {
     "name": "stdout",
     "output_type": "stream",
     "text": [
      "The confusion matrix for your predictions is:\n",
      "[[3758  407]\n",
      " [ 625  844]] \n",
      "\n",
      "The accuracy of your model is: 0.8168264110756124\n",
      "The recall of your model is: 0.5745405037440435\n",
      "The precision of your model is: 0.6746602717825739\n",
      "The F1-score of your model is: 0.6205882352941177\n"
     ]
    }
   ],
   "source": [
    "get_results(y_train, results['y_pred'])"
   ]
  },
  {
   "cell_type": "markdown",
   "id": "2b9a1def-cec7-4664-9b59-1a0dcde181ff",
   "metadata": {},
   "source": [
    "## **Evaluation**"
   ]
  },
  {
   "cell_type": "code",
   "execution_count": 39,
   "id": "6ca8904b-e578-4c0c-a957-438fe205ace2",
   "metadata": {},
   "outputs": [
    {
     "name": "stderr",
     "output_type": "stream",
     "text": [
      "/var/folders/rv/4llj5_152rz96jjz6_bjj5xc0000gn/T/ipykernel_53094/2918864045.py:3: FutureWarning: Downcasting behavior in `replace` is deprecated and will be removed in a future version. To retain the old behavior, explicitly call `result.infer_objects(copy=False)`. To opt-in to the future behavior, set `pd.set_option('future.no_silent_downcasting', True)`\n",
      "  col = df[col_name].replace({r'^No.*':0,'Yes':1,0:0,1:1}, regex=True)\n"
     ]
    }
   ],
   "source": [
    "X_test_fe = feature_engineering(X_test)"
   ]
  },
  {
   "cell_type": "code",
   "execution_count": 40,
   "id": "29fcab34-16e0-4b0e-959f-028281a114ad",
   "metadata": {},
   "outputs": [],
   "source": [
    "X_test_fe_scaled = pd.DataFrame(max_min(X_test_fe), index = X_test_fe.index, columns = X_test_fe.columns)"
   ]
  },
  {
   "cell_type": "code",
   "execution_count": 41,
   "id": "2463e497-a02f-4638-8f7e-16331c40372a",
   "metadata": {},
   "outputs": [],
   "source": [
    "results_test = pd.DataFrame()\n",
    "results_test[['prob_stay', 'prob_leave']] = lr.predict_proba(X_test_fe_scaled)"
   ]
  },
  {
   "cell_type": "code",
   "execution_count": 42,
   "id": "42989a66-5f32-4079-8da2-8bbe96673cd7",
   "metadata": {},
   "outputs": [],
   "source": [
    "results_test['y_pred'] = np.where(results_test['prob_leave']>.5, 1, 0)"
   ]
  },
  {
   "cell_type": "code",
   "execution_count": 43,
   "id": "670c412d-0450-4ef7-be30-ce13aae37161",
   "metadata": {},
   "outputs": [
    {
     "name": "stdout",
     "output_type": "stream",
     "text": [
      "The confusion matrix for your predictions is:\n",
      "[[901 108]\n",
      " [168 232]] \n",
      "\n",
      "The accuracy of your model is: 0.8041163946061036\n",
      "The recall of your model is: 0.58\n",
      "The precision of your model is: 0.6823529411764706\n",
      "The F1-score of your model is: 0.6270270270270271\n"
     ]
    }
   ],
   "source": [
    "get_results(y_test, results_test['y_pred'])"
   ]
  },
  {
   "cell_type": "markdown",
   "id": "c042c742-53cb-458e-b559-c756637574fa",
   "metadata": {},
   "source": [
    "**EDA Visualisations pt 2**"
   ]
  },
  {
   "cell_type": "markdown",
   "id": "1f7db124-3ec6-4846-8ba6-f018b923a050",
   "metadata": {},
   "source": [
    " **Churn by Senior Citizen, Partner, and Dependents**\n",
    "\n",
    "This visualisation explores how churn relates to:\n",
    "- Whether the customer is a **Senior Citizen**\n",
    "- Whether they have a **Partner**\n",
    "- Whether they have **Dependents**\n",
    "\n",
    "Understanding these relationships can inform targeted retention strategies for specific customer groups.\n"
   ]
  },
  {
   "cell_type": "code",
   "execution_count": 78,
   "id": "349cb898-b56e-42a4-a827-7456f05a36a5",
   "metadata": {},
   "outputs": [
    {
     "data": {
      "image/png": "[encoded data removed]",
      "text/plain": [
       "<Figure size 640x480 with 3 Axes>"
      ]
     },
     "metadata": {},
     "output_type": "display_data"
    }
   ],
   "source": [
    "colors = ['#7593A0', '#224955']\n",
    "edges = ['#132C31']\n",
    "\n",
    "sns.set_context('paper')\n",
    "\n",
    "#plt.subplot(3,1,1)\n",
    "#sns.countplot(data = swan[swan['Churn Value']==1], x = 'Gender',\n",
    "   #          hue = 'Gender',\n",
    "    #         palette = colors,\n",
    "    #         linewidth=1.3,\n",
    "     #        edgecolor = edges)\n",
    "\n",
    "plt.subplot(1,3,1)\n",
    "sns.countplot(data = swan[swan['Churn Value']==1], x = 'Senior Citizen',\n",
    "             hue = 'Senior Citizen',\n",
    "             palette = colors,\n",
    "             linewidth=1.3,\n",
    "             edgecolor = edges)\n",
    "\n",
    "plt.subplot(1,3,2)\n",
    "sns.countplot(data = swan[swan['Churn Value']==1], x = 'Partner',\n",
    "             hue = 'Partner',\n",
    "             palette = colors,\n",
    "             linewidth=1.3,\n",
    "             edgecolor = edges)\n",
    "\n",
    "plt.subplot(1,3,3)\n",
    "sns.countplot(data = swan[swan['Churn Value']==1], x = 'Dependents',\n",
    "             hue = 'Dependents',\n",
    "             palette = colors,\n",
    "             linewidth=1.3,\n",
    "             edgecolor = edges)\n",
    "\n",
    "\n",
    "\n",
    "plt.tight_layout()\n",
    "\n",
    "plt.savefig('Demo2.jpg')\n"
   ]
  },
  {
   "cell_type": "code",
   "execution_count": 45,
   "id": "41aa9985-45c0-4c67-bb65-2eaa7e92d06e",
   "metadata": {},
   "outputs": [
    {
     "data": {
      "text/plain": [
       "Dependents\n",
       "No     0.943285\n",
       "Yes    0.056715\n",
       "Name: proportion, dtype: float64"
      ]
     },
     "execution_count": 45,
     "metadata": {},
     "output_type": "execute_result"
    }
   ],
   "source": [
    "swan[swan['Churn Value']==1]['Dependents'].value_counts(normalize=True)"
   ]
  },
  {
   "cell_type": "code",
   "execution_count": 79,
   "id": "46a636a6-50ca-4f14-97a4-04c423d6d2ee",
   "metadata": {},
   "outputs": [
    {
     "data": {
      "text/html": [
       "<div>\n",
       "<style scoped>\n",
       "    .dataframe tbody tr th:only-of-type {\n",
       "        vertical-align: middle;\n",
       "    }\n",
       "\n",
       "    .dataframe tbody tr th {\n",
       "        vertical-align: top;\n",
       "    }\n",
       "\n",
       "    .dataframe thead th {\n",
       "        text-align: right;\n",
       "    }\n",
       "</style>\n",
       "<table border=\"1\" class=\"dataframe\">\n",
       "  <thead>\n",
       "    <tr style=\"text-align: right;\">\n",
       "      <th></th>\n",
       "      <th>Phone Services</th>\n",
       "      <th>Churned</th>\n",
       "      <th>Stayed</th>\n",
       "    </tr>\n",
       "  </thead>\n",
       "  <tbody>\n",
       "    <tr>\n",
       "      <th>0</th>\n",
       "      <td>No Phone Service</td>\n",
       "      <td>170</td>\n",
       "      <td>512</td>\n",
       "    </tr>\n",
       "    <tr>\n",
       "      <th>1</th>\n",
       "      <td>Single Line</td>\n",
       "      <td>849</td>\n",
       "      <td>2541</td>\n",
       "    </tr>\n",
       "    <tr>\n",
       "      <th>2</th>\n",
       "      <td>Multiple Lines</td>\n",
       "      <td>850</td>\n",
       "      <td>2121</td>\n",
       "    </tr>\n",
       "  </tbody>\n",
       "</table>\n",
       "</div>"
      ],
      "text/plain": [
       "     Phone Services  Churned  Stayed\n",
       "0  No Phone Service      170     512\n",
       "1       Single Line      849    2541\n",
       "2    Multiple Lines      850    2121"
      ]
     },
     "execution_count": 79,
     "metadata": {},
     "output_type": "execute_result"
    }
   ],
   "source": [
    "phone_df = pd.DataFrame({'Phone Services':['No Phone Service','Single Line','Multiple Lines'],\n",
    "                         'Churned':[len(swan[(swan['Multiple Lines']=='No phone service')&(swan['Churn Value']==1)]),\n",
    "                                     len(swan[(swan['Multiple Lines']=='No')&(swan['Churn Value']==1)]),\n",
    "                                     len(swan[(swan['Multiple Lines']=='Yes')&(swan['Churn Value']==1)])],\n",
    "                         'Stayed':[len(swan[(swan['Multiple Lines']=='No phone service')&(swan['Churn Value']==0)]),\n",
    "                                     len(swan[(swan['Multiple Lines']=='No')&(swan['Churn Value']==0)]),\n",
    "                                     len(swan[(swan['Multiple Lines']=='Yes')&(swan['Churn Value']==0)])]})\n",
    "phone_df"
   ]
  },
  {
   "cell_type": "code",
   "execution_count": 80,
   "id": "4ba25108-608e-4110-9dce-6f9c1fe4e8cc",
   "metadata": {},
   "outputs": [
    {
     "data": {
      "text/plain": [
       "0.45425361155698235"
      ]
     },
     "execution_count": 80,
     "metadata": {},
     "output_type": "execute_result"
    }
   ],
   "source": [
    "849/(170+849+850)"
   ]
  },
  {
   "cell_type": "markdown",
   "id": "871e1cc7-055d-4436-869e-47c4cae358e0",
   "metadata": {},
   "source": [
    "**Churn by Phone Service Type**\n",
    "\n",
    "This stacked bar chart shows the number of customers who **churned** or **stayed**, segmented by their **Phone Service type**. \n",
    "\n",
    "Each segment is annotated with the actual count to make the chart easier to interpret.\n"
   ]
  },
  {
   "cell_type": "code",
   "execution_count": 88,
   "id": "4b42ed6b-4931-414c-9e36-5e74ba0858ad",
   "metadata": {},
   "outputs": [
    {
     "data": {
      "image/png": "[encoded data removed]",
      "text/plain": [
       "<Figure size 800x600 with 1 Axes>"
      ]
     },
     "metadata": {},
     "output_type": "display_data"
    }
   ],
   "source": [
    "import pandas as pd\n",
    "import matplotlib.pyplot as plt\n",
    "import seaborn as sns\n",
    "\n",
    "colors = ['#224955', '#95A6BA']\n",
    "edges = ['#132C31']\n",
    "\n",
    "sns.set_context('paper')\n",
    "\n",
    "# Plot\n",
    "ax = phone_df.set_index('Phone Services').plot(kind='bar',\n",
    "                                               stacked=True,\n",
    "                                               color=colors,\n",
    "                                               linewidth=1.3,\n",
    "                                               edgecolor=edges,\n",
    "                                               figsize=(8,6))\n",
    "\n",
    "plt.xticks(rotation=0)\n",
    "plt.title('Churn by Phone Service Type')\n",
    "plt.ylabel('Number of Customers')\n",
    "\n",
    "# Annotate with total counts on top of bars\n",
    "for p in ax.patches:\n",
    "    width, height = p.get_width(), p.get_height()\n",
    "    x, y = p.get_xy() \n",
    "    if height > 0:\n",
    "        ax.annotate(f'{int(height)}', \n",
    "                    (x + width/2, y + height/2),\n",
    "                    ha='center', va='center', color='white', fontsize=10)\n",
    "\n",
    "plt.tight_layout()\n",
    "plt.savefig('Phone_Services_annotated.jpg')\n",
    "plt.show()\n"
   ]
  },
  {
   "cell_type": "markdown",
   "id": "1305c8da-5a0f-4f07-9d1d-77b583df76f2",
   "metadata": {},
   "source": [
    " **Churn by Contract Type**\n",
    "\n",
    "This visualisation shows how churn varies by the **type of contract** customers have:\n",
    "- **Month-to-month**\n",
    "- **One year**\n",
    "- **Two year**\n",
    "\n",
    "It also includes **counts directly on the bars** for better readability.\n"
   ]
  },
  {
   "cell_type": "code",
   "execution_count": 89,
   "id": "7ee41362-8cf0-425a-89a4-e72f90456ccc",
   "metadata": {},
   "outputs": [
    {
     "data": {
      "image/png": "[encoded data removed]",
      "text/plain": [
       "<Figure size 800x600 with 1 Axes>"
      ]
     },
     "metadata": {},
     "output_type": "display_data"
    }
   ],
   "source": [
    "colors = ['#224955', '#95A6BA']\n",
    "\n",
    "plt.figure(figsize=(8,6))\n",
    "\n",
    "ax = sns.countplot(data=df, x='Contract', hue='Churn Label', palette=colors)\n",
    "\n",
    "plt.title('Churn by Contract Type')\n",
    "plt.xlabel('Contract Type')\n",
    "plt.ylabel('Number of Customers')\n",
    "plt.legend(title='Churn Status')\n",
    "\n",
    "# Annotate each bar with count\n",
    "for p in ax.patches:\n",
    "    height = p.get_height()\n",
    "    ax.annotate(f'{height}', \n",
    "                (p.get_x() + p.get_width() / 2., height), \n",
    "                ha='center', va='center', \n",
    "                xytext=(0, 6), \n",
    "                textcoords='offset points', \n",
    "                fontsize=9, color='black')\n",
    "\n",
    "plt.tight_layout()\n",
    "plt.show()\n"
   ]
  },
  {
   "cell_type": "markdown",
   "id": "7b712e30-87a4-41d1-af53-9bac4c891aee",
   "metadata": {},
   "source": [
    "**Tenure Distribution by Churn Status**\n",
    "\n",
    "This boxplot shows the **distribution of tenure (number of months a customer has stayed)**, split by churn status.\n",
    "\n",
    "It helps identify whether **customers with shorter tenure are more likely to churn**."
   ]
  },
  {
   "cell_type": "code",
   "execution_count": 99,
   "id": "efba0fb3-90fc-44db-b905-05d7ec7f866f",
   "metadata": {},
   "outputs": [
    {
     "name": "stderr",
     "output_type": "stream",
     "text": [
      "/var/folders/rv/4llj5_152rz96jjz6_bjj5xc0000gn/T/ipykernel_53094/2448515640.py:3: FutureWarning: \n",
      "\n",
      "Passing `palette` without assigning `hue` is deprecated and will be removed in v0.14.0. Assign the `x` variable to `hue` and set `legend=False` for the same effect.\n",
      "\n",
      "  ax = sns.boxplot(data=df, x='Churn Label', y='Tenure Months', palette=colors)\n"
     ]
    },
    {
     "data": {
      "image/png": "[encoded data removed]",
      "text/plain": [
       "<Figure size 800x600 with 1 Axes>"
      ]
     },
     "metadata": {},
     "output_type": "display_data"
    }
   ],
   "source": [
    "plt.figure(figsize=(8,6))\n",
    "\n",
    "ax = sns.boxplot(data=df, x='Churn Label', y='Tenure Months', palette=colors)\n",
    "\n",
    "# Calculate mean tenure per churn label\n",
    "means = df.groupby('Churn Label')['Tenure Months'].mean()\n",
    "\n",
    "# Plot mean markers and annotate on each box\n",
    "for i, mean in enumerate(means):\n",
    "    ax.scatter(i, mean, color='red', marker='D', s=40, label='Mean' if i == 0 else \"\")\n",
    "    ax.text(i, mean, f'Mean: {mean:.1f}', \n",
    "            horizontalalignment='center', \n",
    "            verticalalignment='bottom', \n",
    "            color='white', fontsize=9, weight='bold',\n",
    "            bbox=dict(facecolor='black', alpha=0.5, boxstyle='round,pad=0.3'))\n",
    "\n",
    "plt.title('Customer Tenure Distribution by Churn Status')\n",
    "plt.xlabel('Churn Status')\n",
    "plt.ylabel('Tenure (Months)')\n",
    "plt.grid(axis='y', linestyle='--', alpha=0.7)\n",
    "plt.tight_layout()\n",
    "plt.show()\n"
   ]
  },
  {
   "cell_type": "markdown",
   "id": "bd8c9c20-2f5c-4b4e-a535-111604d85fd2",
   "metadata": {},
   "source": [
    ">  **Insight Box**\n",
    ">\n",
    "> The boxplot above shows the **tenure distribution** (in months) between customers who **churned** (`Churn Label = Yes`) and those who **stayed** (`Churn Label = No`).\n",
    ">\n",
    "> - **Churned customers**: Have a **mean tenure of ~18 months**. This means on average, customers who leave tend to leave within the first 1 to 1.5 years.\n",
    "> - **Retained customers**: Have a **mean tenure of ~38 months**, showing that longer-tenured customers are more likely to stay.\n",
    ">\n",
    ">  **Key takeaway**:  \n",
    "> Customers with a **shorter tenure are more likely to churn**, which makes **tenure months a critical feature** in predicting churn.  \n",
    "> Retention strategies should focus on customers **early in their lifecycle (under 20 months)** to prevent churn.\n"
   ]
  },
  {
   "cell_type": "markdown",
   "id": "f846704e-d138-463e-981b-a2526f708c77",
   "metadata": {},
   "source": [
    " **Monthly Charges by Churn Status**\n",
    "\n",
    "This visualisation compares the **Monthly Charges** paid by customers who churned versus those who stayed.\n",
    "\n",
    "This helps us see if **higher or lower bills correlate with churn**.\n"
   ]
  },
  {
   "cell_type": "code",
   "execution_count": 100,
   "id": "07d3f1c0-676c-4184-8d34-8d689ce9bf78",
   "metadata": {},
   "outputs": [
    {
     "name": "stderr",
     "output_type": "stream",
     "text": [
      "/var/folders/rv/4llj5_152rz96jjz6_bjj5xc0000gn/T/ipykernel_53094/1617918821.py:3: FutureWarning: \n",
      "\n",
      "Passing `palette` without assigning `hue` is deprecated and will be removed in v0.14.0. Assign the `x` variable to `hue` and set `legend=False` for the same effect.\n",
      "\n",
      "  ax = sns.boxplot(data=df, x='Churn Label', y='Monthly Charges', palette=colors)\n"
     ]
    },
    {
     "data": {
      "image/png": "[encoded data removed]",
      "text/plain": [
       "<Figure size 800x600 with 1 Axes>"
      ]
     },
     "metadata": {},
     "output_type": "display_data"
    }
   ],
   "source": [
    "plt.figure(figsize=(8,6))\n",
    "\n",
    "ax = sns.boxplot(data=df, x='Churn Label', y='Monthly Charges', palette=colors)\n",
    "\n",
    "means = df.groupby('Churn Label')['Monthly Charges'].mean()\n",
    "\n",
    "for i, mean in enumerate(means):\n",
    "    ax.scatter(i, mean, color='red', marker='D', s=40, label='Mean' if i == 0 else \"\")\n",
    "    ax.text(i, mean, f'Mean: {mean:.1f}', ha='center', va='bottom', color='white', fontsize=9,\n",
    "            bbox=dict(facecolor='black', alpha=0.5, boxstyle='round,pad=0.3'))\n",
    "\n",
    "plt.title('Monthly Charges by Churn Status')\n",
    "plt.xlabel('Churn Status')\n",
    "plt.ylabel('Monthly Charges ($)')\n",
    "plt.grid(axis='y', linestyle='--', alpha=0.7)\n",
    "plt.tight_layout()\n",
    "plt.show()\n"
   ]
  },
  {
   "cell_type": "markdown",
   "id": "4677b990-339f-41ff-9405-bf9bd2049224",
   "metadata": {},
   "source": [
    "**Churn by Payment Method**\n",
    "\n",
    "This visualisation explores the relationship between **Payment Method** and churn status.  \n",
    "Certain payment types may be linked to higher or lower churn rates.\n"
   ]
  },
  {
   "cell_type": "code",
   "execution_count": 101,
   "id": "c77dce8f-ddce-4d57-914a-d3d4f80c6c00",
   "metadata": {},
   "outputs": [
    {
     "data": {
      "image/png": "[encoded data removed]",
      "text/plain": [
       "<Figure size 1000x600 with 1 Axes>"
      ]
     },
     "metadata": {},
     "output_type": "display_data"
    }
   ],
   "source": [
    "plt.figure(figsize=(10,6))\n",
    "\n",
    "ax = sns.countplot(data=df, x='Payment Method', hue='Churn Label', palette=colors)\n",
    "\n",
    "plt.title('Churn by Payment Method')\n",
    "plt.xlabel('Payment Method')\n",
    "plt.ylabel('Number of Customers')\n",
    "plt.xticks(rotation=30)\n",
    "plt.legend(title='Churn Status')\n",
    "\n",
    "# Annotate counts on bars\n",
    "for p in ax.patches:\n",
    "    height = p.get_height()\n",
    "    ax.annotate(f'{height}', \n",
    "                (p.get_x() + p.get_width()/2., height),\n",
    "                ha='center', va='center',\n",
    "                xytext=(0, 5),\n",
    "                textcoords='offset points',\n",
    "                fontsize=8)\n",
    "\n",
    "plt.tight_layout()\n",
    "plt.show()\n"
   ]
  },
  {
   "cell_type": "markdown",
   "id": "e208932e-dcee-4d5c-b250-d5f54ec3cb0d",
   "metadata": {},
   "source": [
    "**Churn by Internet Service Type**\n",
    "\n",
    "This visualisation examines the relationship between the type of internet service (DSL, Fiber Optic, None) and churn status.\n"
   ]
  },
  {
   "cell_type": "code",
   "execution_count": 102,
   "id": "2ee8d153-82fb-4fbe-8078-a159e1f95917",
   "metadata": {},
   "outputs": [
    {
     "data": {
      "image/png": "[encoded data removed]",
      "text/plain": [
       "<Figure size 800x600 with 1 Axes>"
      ]
     },
     "metadata": {},
     "output_type": "display_data"
    }
   ],
   "source": [
    "plt.figure(figsize=(8,6))\n",
    "\n",
    "ax = sns.countplot(data=df, x='Internet Service', hue='Churn Label', palette=colors)\n",
    "\n",
    "plt.title('Churn by Internet Service Type')\n",
    "plt.xlabel('Internet Service Type')\n",
    "plt.ylabel('Number of Customers')\n",
    "plt.legend(title='Churn Status')\n",
    "\n",
    "plt.tight_layout()\n",
    "plt.show()"
   ]
  },
  {
   "cell_type": "markdown",
   "id": "94fd02ca-ac97-4baa-b6f1-c8a0d80e49fb",
   "metadata": {},
   "source": [
    " **Total Charges by Churn Status**\n",
    "\n",
    "This boxplot shows the **Total Charges** (the total amount paid by the customer so far) split by churn status.\n",
    "\n",
    "It helps us understand if **total spend over time** has any relationship with a customer leaving or staying.\n"
   ]
  },
  {
   "cell_type": "code",
   "execution_count": 105,
   "id": "bf2e2957-33a0-498d-af85-d0287bf39336",
   "metadata": {},
   "outputs": [
    {
     "name": "stderr",
     "output_type": "stream",
     "text": [
      "/var/folders/rv/4llj5_152rz96jjz6_bjj5xc0000gn/T/ipykernel_53094/2419526099.py:14: FutureWarning: \n",
      "\n",
      "Passing `palette` without assigning `hue` is deprecated and will be removed in v0.14.0. Assign the `x` variable to `hue` and set `legend=False` for the same effect.\n",
      "\n",
      "  ax = sns.boxplot(data=df, x='Churn Label', y='Total Charges', palette=colors)\n"
     ]
    },
    {
     "data": {
      "image/png": "[encoded data removed]",
      "text/plain": [
       "<Figure size 800x600 with 1 Axes>"
      ]
     },
     "metadata": {},
     "output_type": "display_data"
    }
   ],
   "source": [
    "import pandas as pd\n",
    "import seaborn as sns\n",
    "import matplotlib.pyplot as plt\n",
    "\n",
    "# Clean the Total Charges column (convert to numeric, set errors='coerce' to turn invalid strings to NaN)\n",
    "df['Total Charges'] = pd.to_numeric(df['Total Charges'], errors='coerce')\n",
    "df = df.dropna(subset=['Total Charges'])\n",
    "\n",
    "# Define color palette\n",
    "colors = ['#224955', '#95A6BA']\n",
    "\n",
    "plt.figure(figsize=(8,6))\n",
    "\n",
    "ax = sns.boxplot(data=df, x='Churn Label', y='Total Charges', palette=colors)\n",
    "\n",
    "# Calculate mean total charges per churn label\n",
    "means = df.groupby('Churn Label')['Total Charges'].mean()\n",
    "\n",
    "for i, mean in enumerate(means):\n",
    "    ax.scatter(i, mean, color='red', marker='D', s=40, label='Mean' if i == 0 else \"\")\n",
    "    ax.text(i, mean, f'Mean: {mean:.1f}', ha='center', va='bottom', color='white', fontsize=9,\n",
    "            bbox=dict(facecolor='black', alpha=0.5, boxstyle='round,pad=0.3'))\n",
    "\n",
    "plt.title('Total Charges by Churn Status')\n",
    "plt.xlabel('Churn Status')\n",
    "plt.ylabel('Total Charges ($)')\n",
    "plt.grid(axis='y', linestyle='--', alpha=0.7)\n",
    "plt.tight_layout()\n",
    "plt.show()\n",
    "\n"
   ]
  },
  {
   "cell_type": "markdown",
   "id": "2b9bb8c2-5ab6-4245-a588-e64567a54e50",
   "metadata": {},
   "source": [
    "**Correlation Heatmap of Numerical Features**\n",
    "\n",
    "This heatmap shows the **correlation between numerical features** such as:\n",
    "- Tenure Months\n",
    "- Monthly Charges\n",
    "- Total Charges\n",
    "- Churn Value (encoded as 0 or 1)\n",
    "\n",
    "This helps understand which variables are most related to churn and to each other.\n"
   ]
  },
  {
   "cell_type": "code",
   "execution_count": 106,
   "id": "364e49c3-5cce-489c-9400-0ffe4625ee45",
   "metadata": {},
   "outputs": [
    {
     "data": {
      "image/png": "[encoded data removed]",
      "text/plain": [
       "<Figure size 800x600 with 2 Axes>"
      ]
     },
     "metadata": {},
     "output_type": "display_data"
    }
   ],
   "source": [
    "plt.figure(figsize=(8,6))\n",
    "\n",
    "numerical_cols = ['Tenure Months', 'Monthly Charges', 'Total Charges', 'Churn Value']\n",
    "corr = df[numerical_cols].corr()\n",
    "\n",
    "sns.heatmap(corr, annot=True, cmap='coolwarm', fmt='.2f')\n",
    "\n",
    "plt.title('Correlation Heatmap of Numerical Features')\n",
    "plt.tight_layout()\n",
    "plt.show()\n"
   ]
  },
  {
   "cell_type": "markdown",
   "id": "48c9098b-16d3-475c-90be-93e24390b8b2",
   "metadata": {},
   "source": [
    "**Churn Rate by Contract Type and Payment Method**\n",
    "\n",
    "This visualisation shows the churn rate for **each combination of Contract Type and Payment Method**.  \n",
    "It helps spot high churn risk groups based on how they pay and their contract length.\n"
   ]
  },
  {
   "cell_type": "code",
   "execution_count": 107,
   "id": "877d0f84-cbed-442a-86e3-1c93298ddecd",
   "metadata": {},
   "outputs": [
    {
     "data": {
      "image/png": "[encoded data removed]",
      "text/plain": [
       "<Figure size 1400x700 with 1 Axes>"
      ]
     },
     "metadata": {},
     "output_type": "display_data"
    }
   ],
   "source": [
    "plt.figure(figsize=(14,7))\n",
    "\n",
    "ax = sns.countplot(data=df, x='Contract', hue='Payment Method', palette='Set2', hue_order=df['Payment Method'].unique())\n",
    "\n",
    "plt.title('Payment Method Distribution across Contract Types')\n",
    "plt.xlabel('Contract Type')\n",
    "plt.ylabel('Number of Customers')\n",
    "plt.xticks(rotation=0)\n",
    "plt.legend(title='Payment Method', bbox_to_anchor=(1.05, 1), loc='upper left')\n",
    "\n",
    "plt.tight_layout()\n",
    "plt.show()\n"
   ]
  }
 ],
 "metadata": {
  "kernelspec": {
   "display_name": "Python [conda env:base] *",
   "language": "python",
   "name": "conda-base-py"
  },
  "language_info": {
   "codemirror_mode": {
    "name": "ipython",
    "version": 3
   },
   "file_extension": ".py",
   "mimetype": "text/x-python",
   "name": "python",
   "nbconvert_exporter": "python",
   "pygments_lexer": "ipython3",
   "version": "3.12.7"
  }
 },
 "nbformat": 4,
 "nbformat_minor": 5
}
