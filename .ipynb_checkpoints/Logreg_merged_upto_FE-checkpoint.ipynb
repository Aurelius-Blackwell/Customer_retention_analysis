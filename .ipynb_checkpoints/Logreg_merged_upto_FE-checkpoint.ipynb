{
 "cells": [
  {
   "cell_type": "markdown",
   "id": "8916a146-07bb-46e7-80df-31a5ff10eca7",
   "metadata": {},
   "source": [
    "# Digital Futures Academy Project: **Swan Teleco**"
   ]
  },
  {
   "cell_type": "code",
   "execution_count": 1,
   "id": "1f94b73a-1829-4d56-95fe-4110e21b5bd0",
   "metadata": {},
   "outputs": [],
   "source": [
    "import pandas as pd\n",
    "import numpy as np\n",
    "import seaborn as sns\n",
    "import matplotlib.pyplot as plt\n",
    "\n",
    "from sklearn.model_selection import train_test_split\n",
    "from sklearn.preprocessing import MinMaxScaler \n",
    "from sklearn import metrics\n",
    "\n",
    "import statsmodels.api as sm\n",
    "from statsmodels.stats.outliers_influence import variance_inflation_factor"
   ]
  },
  {
   "cell_type": "code",
   "execution_count": 2,
   "id": "d41cbe91-fc2c-4a81-8665-b86c66247a78",
   "metadata": {},
   "outputs": [],
   "source": [
    "pd.set_option('display.max_columns',100)"
   ]
  },
  {
   "cell_type": "code",
   "execution_count": 3,
   "id": "ea315b87-34d8-4629-8023-2f64fc355636",
   "metadata": {},
   "outputs": [],
   "source": [
    "# Read the data into a Pandas DataFrame\n",
    "swan = pd.read_excel(\"1 - Project Data.xlsx\")"
   ]
  },
  {
   "cell_type": "code",
   "execution_count": 4,
   "id": "c2063ac4-0b72-43aa-8c02-84f544281183",
   "metadata": {},
   "outputs": [
    {
     "data": {
      "text/html": [
       "<div>\n",
       "<style scoped>\n",
       "    .dataframe tbody tr th:only-of-type {\n",
       "        vertical-align: middle;\n",
       "    }\n",
       "\n",
       "    .dataframe tbody tr th {\n",
       "        vertical-align: top;\n",
       "    }\n",
       "\n",
       "    .dataframe thead th {\n",
       "        text-align: right;\n",
       "    }\n",
       "</style>\n",
       "<table border=\"1\" class=\"dataframe\">\n",
       "  <thead>\n",
       "    <tr style=\"text-align: right;\">\n",
       "      <th></th>\n",
       "      <th>CustomerID</th>\n",
       "      <th>Count</th>\n",
       "      <th>Country</th>\n",
       "      <th>State</th>\n",
       "      <th>City</th>\n",
       "      <th>Zip Code</th>\n",
       "      <th>Lat Long</th>\n",
       "      <th>Latitude</th>\n",
       "      <th>Longitude</th>\n",
       "      <th>Gender</th>\n",
       "      <th>Senior Citizen</th>\n",
       "      <th>Partner</th>\n",
       "      <th>Dependents</th>\n",
       "      <th>Tenure Months</th>\n",
       "      <th>Phone Service</th>\n",
       "      <th>Multiple Lines</th>\n",
       "      <th>Internet Service</th>\n",
       "      <th>Online Security</th>\n",
       "      <th>Online Backup</th>\n",
       "      <th>Device Protection</th>\n",
       "      <th>Tech Support</th>\n",
       "      <th>Streaming TV</th>\n",
       "      <th>Streaming Movies</th>\n",
       "      <th>Contract</th>\n",
       "      <th>Paperless Billing</th>\n",
       "      <th>Payment Method</th>\n",
       "      <th>Monthly Charges</th>\n",
       "      <th>Total Charges</th>\n",
       "      <th>Churn Label</th>\n",
       "      <th>Churn Value</th>\n",
       "      <th>Churn Reason</th>\n",
       "    </tr>\n",
       "  </thead>\n",
       "  <tbody>\n",
       "    <tr>\n",
       "      <th>0</th>\n",
       "      <td>3668-QPYBK</td>\n",
       "      <td>1</td>\n",
       "      <td>United States</td>\n",
       "      <td>California</td>\n",
       "      <td>Los Angeles</td>\n",
       "      <td>90003</td>\n",
       "      <td>33.964131, -118.272783</td>\n",
       "      <td>33.964131</td>\n",
       "      <td>-118.272783</td>\n",
       "      <td>Male</td>\n",
       "      <td>No</td>\n",
       "      <td>No</td>\n",
       "      <td>No</td>\n",
       "      <td>2</td>\n",
       "      <td>Yes</td>\n",
       "      <td>No</td>\n",
       "      <td>DSL</td>\n",
       "      <td>Yes</td>\n",
       "      <td>Yes</td>\n",
       "      <td>No</td>\n",
       "      <td>No</td>\n",
       "      <td>No</td>\n",
       "      <td>No</td>\n",
       "      <td>Month-to-month</td>\n",
       "      <td>Yes</td>\n",
       "      <td>Mailed check</td>\n",
       "      <td>53.85</td>\n",
       "      <td>108.15</td>\n",
       "      <td>Yes</td>\n",
       "      <td>1</td>\n",
       "      <td>Competitor made better offer</td>\n",
       "    </tr>\n",
       "    <tr>\n",
       "      <th>1</th>\n",
       "      <td>9237-HQITU</td>\n",
       "      <td>1</td>\n",
       "      <td>United States</td>\n",
       "      <td>California</td>\n",
       "      <td>Los Angeles</td>\n",
       "      <td>90005</td>\n",
       "      <td>34.059281, -118.30742</td>\n",
       "      <td>34.059281</td>\n",
       "      <td>-118.307420</td>\n",
       "      <td>Female</td>\n",
       "      <td>No</td>\n",
       "      <td>No</td>\n",
       "      <td>Yes</td>\n",
       "      <td>2</td>\n",
       "      <td>Yes</td>\n",
       "      <td>No</td>\n",
       "      <td>Fiber optic</td>\n",
       "      <td>No</td>\n",
       "      <td>No</td>\n",
       "      <td>No</td>\n",
       "      <td>No</td>\n",
       "      <td>No</td>\n",
       "      <td>No</td>\n",
       "      <td>Month-to-month</td>\n",
       "      <td>Yes</td>\n",
       "      <td>Electronic check</td>\n",
       "      <td>70.70</td>\n",
       "      <td>151.65</td>\n",
       "      <td>Yes</td>\n",
       "      <td>1</td>\n",
       "      <td>Moved</td>\n",
       "    </tr>\n",
       "    <tr>\n",
       "      <th>2</th>\n",
       "      <td>9305-CDSKC</td>\n",
       "      <td>1</td>\n",
       "      <td>United States</td>\n",
       "      <td>California</td>\n",
       "      <td>Los Angeles</td>\n",
       "      <td>90006</td>\n",
       "      <td>34.048013, -118.293953</td>\n",
       "      <td>34.048013</td>\n",
       "      <td>-118.293953</td>\n",
       "      <td>Female</td>\n",
       "      <td>No</td>\n",
       "      <td>No</td>\n",
       "      <td>Yes</td>\n",
       "      <td>8</td>\n",
       "      <td>Yes</td>\n",
       "      <td>Yes</td>\n",
       "      <td>Fiber optic</td>\n",
       "      <td>No</td>\n",
       "      <td>No</td>\n",
       "      <td>Yes</td>\n",
       "      <td>No</td>\n",
       "      <td>Yes</td>\n",
       "      <td>Yes</td>\n",
       "      <td>Month-to-month</td>\n",
       "      <td>Yes</td>\n",
       "      <td>Electronic check</td>\n",
       "      <td>99.65</td>\n",
       "      <td>820.5</td>\n",
       "      <td>Yes</td>\n",
       "      <td>1</td>\n",
       "      <td>Moved</td>\n",
       "    </tr>\n",
       "    <tr>\n",
       "      <th>3</th>\n",
       "      <td>7892-POOKP</td>\n",
       "      <td>1</td>\n",
       "      <td>United States</td>\n",
       "      <td>California</td>\n",
       "      <td>Los Angeles</td>\n",
       "      <td>90010</td>\n",
       "      <td>34.062125, -118.315709</td>\n",
       "      <td>34.062125</td>\n",
       "      <td>-118.315709</td>\n",
       "      <td>Female</td>\n",
       "      <td>No</td>\n",
       "      <td>Yes</td>\n",
       "      <td>Yes</td>\n",
       "      <td>28</td>\n",
       "      <td>Yes</td>\n",
       "      <td>Yes</td>\n",
       "      <td>Fiber optic</td>\n",
       "      <td>No</td>\n",
       "      <td>No</td>\n",
       "      <td>Yes</td>\n",
       "      <td>Yes</td>\n",
       "      <td>Yes</td>\n",
       "      <td>Yes</td>\n",
       "      <td>Month-to-month</td>\n",
       "      <td>Yes</td>\n",
       "      <td>Electronic check</td>\n",
       "      <td>104.80</td>\n",
       "      <td>3046.05</td>\n",
       "      <td>Yes</td>\n",
       "      <td>1</td>\n",
       "      <td>Moved</td>\n",
       "    </tr>\n",
       "    <tr>\n",
       "      <th>4</th>\n",
       "      <td>0280-XJGEX</td>\n",
       "      <td>1</td>\n",
       "      <td>United States</td>\n",
       "      <td>California</td>\n",
       "      <td>Los Angeles</td>\n",
       "      <td>90015</td>\n",
       "      <td>34.039224, -118.266293</td>\n",
       "      <td>34.039224</td>\n",
       "      <td>-118.266293</td>\n",
       "      <td>Male</td>\n",
       "      <td>No</td>\n",
       "      <td>No</td>\n",
       "      <td>Yes</td>\n",
       "      <td>49</td>\n",
       "      <td>Yes</td>\n",
       "      <td>Yes</td>\n",
       "      <td>Fiber optic</td>\n",
       "      <td>No</td>\n",
       "      <td>Yes</td>\n",
       "      <td>Yes</td>\n",
       "      <td>No</td>\n",
       "      <td>Yes</td>\n",
       "      <td>Yes</td>\n",
       "      <td>Month-to-month</td>\n",
       "      <td>Yes</td>\n",
       "      <td>Bank transfer (automatic)</td>\n",
       "      <td>103.70</td>\n",
       "      <td>5036.3</td>\n",
       "      <td>Yes</td>\n",
       "      <td>1</td>\n",
       "      <td>Competitor had better devices</td>\n",
       "    </tr>\n",
       "  </tbody>\n",
       "</table>\n",
       "</div>"
      ],
      "text/plain": [
       "   CustomerID  Count        Country       State         City  Zip Code  \\\n",
       "0  3668-QPYBK      1  United States  California  Los Angeles     90003   \n",
       "1  9237-HQITU      1  United States  California  Los Angeles     90005   \n",
       "2  9305-CDSKC      1  United States  California  Los Angeles     90006   \n",
       "3  7892-POOKP      1  United States  California  Los Angeles     90010   \n",
       "4  0280-XJGEX      1  United States  California  Los Angeles     90015   \n",
       "\n",
       "                 Lat Long   Latitude   Longitude  Gender Senior Citizen  \\\n",
       "0  33.964131, -118.272783  33.964131 -118.272783    Male             No   \n",
       "1   34.059281, -118.30742  34.059281 -118.307420  Female             No   \n",
       "2  34.048013, -118.293953  34.048013 -118.293953  Female             No   \n",
       "3  34.062125, -118.315709  34.062125 -118.315709  Female             No   \n",
       "4  34.039224, -118.266293  34.039224 -118.266293    Male             No   \n",
       "\n",
       "  Partner Dependents  Tenure Months Phone Service Multiple Lines  \\\n",
       "0      No         No              2           Yes             No   \n",
       "1      No        Yes              2           Yes             No   \n",
       "2      No        Yes              8           Yes            Yes   \n",
       "3     Yes        Yes             28           Yes            Yes   \n",
       "4      No        Yes             49           Yes            Yes   \n",
       "\n",
       "  Internet Service Online Security Online Backup Device Protection  \\\n",
       "0              DSL             Yes           Yes                No   \n",
       "1      Fiber optic              No            No                No   \n",
       "2      Fiber optic              No            No               Yes   \n",
       "3      Fiber optic              No            No               Yes   \n",
       "4      Fiber optic              No           Yes               Yes   \n",
       "\n",
       "  Tech Support Streaming TV Streaming Movies        Contract  \\\n",
       "0           No           No               No  Month-to-month   \n",
       "1           No           No               No  Month-to-month   \n",
       "2           No          Yes              Yes  Month-to-month   \n",
       "3          Yes          Yes              Yes  Month-to-month   \n",
       "4           No          Yes              Yes  Month-to-month   \n",
       "\n",
       "  Paperless Billing             Payment Method  Monthly Charges Total Charges  \\\n",
       "0               Yes               Mailed check            53.85        108.15   \n",
       "1               Yes           Electronic check            70.70        151.65   \n",
       "2               Yes           Electronic check            99.65         820.5   \n",
       "3               Yes           Electronic check           104.80       3046.05   \n",
       "4               Yes  Bank transfer (automatic)           103.70        5036.3   \n",
       "\n",
       "  Churn Label  Churn Value                   Churn Reason  \n",
       "0         Yes            1   Competitor made better offer  \n",
       "1         Yes            1                          Moved  \n",
       "2         Yes            1                          Moved  \n",
       "3         Yes            1                          Moved  \n",
       "4         Yes            1  Competitor had better devices  "
      ]
     },
     "execution_count": 4,
     "metadata": {},
     "output_type": "execute_result"
    }
   ],
   "source": [
    "swan.head()"
   ]
  },
  {
   "cell_type": "markdown",
   "id": "34f43a57-1703-496f-aa0c-84fee2a723f5",
   "metadata": {},
   "source": [
    "## **EDA**"
   ]
  },
  {
   "cell_type": "markdown",
   "id": "1594afa0-0406-4e1c-be2a-e3c504705181",
   "metadata": {},
   "source": [
    "### Cleaning\n",
    "* Redundant column removal\n",
    "  * `Churn Label`\n",
    "* Correcting data types\n",
    "  * `Total Charges` --> object to float\n",
    "* Null Value handling\n",
    "  * Replace ' ' with 0 where `Total Charges == ' '`"
   ]
  },
  {
   "cell_type": "code",
   "execution_count": 11,
   "id": "d4ef97dd-6c81-433d-967e-0f5ecf8bcab7",
   "metadata": {},
   "outputs": [
    {
     "name": "stdout",
     "output_type": "stream",
     "text": [
      "<class 'pandas.core.frame.DataFrame'>\n",
      "RangeIndex: 7043 entries, 0 to 7042\n",
      "Data columns (total 31 columns):\n",
      " #   Column             Non-Null Count  Dtype  \n",
      "---  ------             --------------  -----  \n",
      " 0   CustomerID         7043 non-null   object \n",
      " 1   Count              7043 non-null   int64  \n",
      " 2   Country            7043 non-null   object \n",
      " 3   State              7043 non-null   object \n",
      " 4   City               7043 non-null   object \n",
      " 5   Zip Code           7043 non-null   int64  \n",
      " 6   Lat Long           7043 non-null   object \n",
      " 7   Latitude           7043 non-null   float64\n",
      " 8   Longitude          7043 non-null   float64\n",
      " 9   Gender             7043 non-null   object \n",
      " 10  Senior Citizen     7043 non-null   object \n",
      " 11  Partner            7043 non-null   object \n",
      " 12  Dependents         7043 non-null   object \n",
      " 13  Tenure Months      7043 non-null   int64  \n",
      " 14  Phone Service      7043 non-null   object \n",
      " 15  Multiple Lines     7043 non-null   object \n",
      " 16  Internet Service   7043 non-null   object \n",
      " 17  Online Security    7043 non-null   object \n",
      " 18  Online Backup      7043 non-null   object \n",
      " 19  Device Protection  7043 non-null   object \n",
      " 20  Tech Support       7043 non-null   object \n",
      " 21  Streaming TV       7043 non-null   object \n",
      " 22  Streaming Movies   7043 non-null   object \n",
      " 23  Contract           7043 non-null   object \n",
      " 24  Paperless Billing  7043 non-null   object \n",
      " 25  Payment Method     7043 non-null   object \n",
      " 26  Monthly Charges    7043 non-null   float64\n",
      " 27  Total Charges      7043 non-null   object \n",
      " 28  Churn Label        7043 non-null   object \n",
      " 29  Churn Value        7043 non-null   int64  \n",
      " 30  Churn Reason       1869 non-null   object \n",
      "dtypes: float64(3), int64(4), object(24)\n",
      "memory usage: 1.7+ MB\n"
     ]
    }
   ],
   "source": [
    "# Check nulls and datatypes\n",
    "swan.info()"
   ]
  },
  {
   "cell_type": "code",
   "execution_count": 13,
   "id": "93254b12-7b4f-43dd-bc1e-8f2fffc32114",
   "metadata": {},
   "outputs": [
    {
     "data": {
      "text/plain": [
       "True"
      ]
     },
     "execution_count": 13,
     "metadata": {},
     "output_type": "execute_result"
    }
   ],
   "source": [
    "# Check there are no duplicates\n",
    "len(swan) == len(swan.drop_duplicates())"
   ]
  },
  {
   "cell_type": "code",
   "execution_count": 15,
   "id": "db55143d-a467-42bf-82cf-0fce278c289a",
   "metadata": {},
   "outputs": [
    {
     "data": {
      "text/plain": [
       "7043"
      ]
     },
     "execution_count": 15,
     "metadata": {},
     "output_type": "execute_result"
    }
   ],
   "source": [
    "# Check number of rows\n",
    "swan.shape[0]"
   ]
  },
  {
   "cell_type": "code",
   "execution_count": 17,
   "id": "51ea09b5-5f56-4da2-9f7a-02e24021942c",
   "metadata": {},
   "outputs": [
    {
     "data": {
      "text/plain": [
       "7043"
      ]
     },
     "execution_count": 17,
     "metadata": {},
     "output_type": "execute_result"
    }
   ],
   "source": [
    "# Check Churn Label is coded to Churn Value correctly\n",
    "((swan['Churn Label'] == 'No')&(swan['Churn Value'] == 0)).sum() + ((swan['Churn Label'] == 'Yes')&(swan['Churn Value'] == 1)).sum()"
   ]
  },
  {
   "cell_type": "code",
   "execution_count": 19,
   "id": "b7ca30e0-cb0a-487e-ab5e-8131d416e333",
   "metadata": {},
   "outputs": [],
   "source": [
    "# Drop redundant column\n",
    "swan.drop(columns = ['Churn Label'], inplace =True)"
   ]
  },
  {
   "cell_type": "code",
   "execution_count": 21,
   "id": "9972e602-2266-4a04-96f8-6a1481755675",
   "metadata": {},
   "outputs": [
    {
     "data": {
      "text/plain": [
       "11"
      ]
     },
     "execution_count": 21,
     "metadata": {},
     "output_type": "execute_result"
    }
   ],
   "source": [
    "# Locate sneaky missing values in Total Charges\n",
    "(swan['Total Charges'] == ' ').sum()"
   ]
  },
  {
   "cell_type": "code",
   "execution_count": 23,
   "id": "858b914b-6c23-4053-a768-49711ac392ff",
   "metadata": {},
   "outputs": [
    {
     "data": {
      "text/plain": [
       "2234    0\n",
       "2438    0\n",
       "2568    0\n",
       "2667    0\n",
       "2856    0\n",
       "4331    0\n",
       "4687    0\n",
       "5104    0\n",
       "5719    0\n",
       "6772    0\n",
       "6840    0\n",
       "Name: Tenure Months, dtype: int64"
      ]
     },
     "execution_count": 23,
     "metadata": {},
     "output_type": "execute_result"
    }
   ],
   "source": [
    "# Check that there's no inconsistancy with tenure\n",
    "swan[swan['Total Charges'] == ' ']['Tenure Months']"
   ]
  },
  {
   "cell_type": "code",
   "execution_count": 25,
   "id": "7606198d-d067-4fbf-9a2c-9657cd5eb2c4",
   "metadata": {},
   "outputs": [
    {
     "name": "stderr",
     "output_type": "stream",
     "text": [
      "/var/folders/gk/0ym9h57d05v80m40rlpbz2bm0000gq/T/ipykernel_18576/3068935308.py:2: FutureWarning: A value is trying to be set on a copy of a DataFrame or Series through chained assignment using an inplace method.\n",
      "The behavior will change in pandas 3.0. This inplace method will never work because the intermediate object on which we are setting values always behaves as a copy.\n",
      "\n",
      "For example, when doing 'df[col].method(value, inplace=True)', try using 'df.method({col: value}, inplace=True)' or df[col] = df[col].method(value) instead, to perform the operation inplace on the original object.\n",
      "\n",
      "\n",
      "  swan['Total Charges'].replace(' ', 0, inplace=True)\n",
      "/var/folders/gk/0ym9h57d05v80m40rlpbz2bm0000gq/T/ipykernel_18576/3068935308.py:2: FutureWarning: Downcasting behavior in `replace` is deprecated and will be removed in a future version. To retain the old behavior, explicitly call `result.infer_objects(copy=False)`. To opt-in to the future behavior, set `pd.set_option('future.no_silent_downcasting', True)`\n",
      "  swan['Total Charges'].replace(' ', 0, inplace=True)\n"
     ]
    }
   ],
   "source": [
    "# Rewrite missing ' ' as 0\n",
    "swan['Total Charges'].replace(' ', 0, inplace=True)"
   ]
  },
  {
   "cell_type": "code",
   "execution_count": 27,
   "id": "31135d0a-4eae-4df1-8ddb-f56bd24f1877",
   "metadata": {},
   "outputs": [],
   "source": [
    "# Prepare as float\n",
    "swan['Total Charges'] = swan['Total Charges'].astype(float)"
   ]
  },
  {
   "cell_type": "markdown",
   "id": "446765a3-3488-4b28-827e-022c6fbd276d",
   "metadata": {},
   "source": [
    "### Train-Test Split"
   ]
  },
  {
   "cell_type": "code",
   "execution_count": 30,
   "id": "59eb9095-2982-4239-9b23-20ef772f2b5c",
   "metadata": {},
   "outputs": [],
   "source": [
    "feature_cols = list(swan.columns)\n",
    "feature_cols.remove('Churn Value')\n",
    "\n",
    "X = swan[feature_cols]\n",
    "y = swan['Churn Value']\n",
    "\n",
    "X_train, X_test, y_train, y_test = train_test_split(X, y, test_size = 0.2, random_state = 42)"
   ]
  },
  {
   "cell_type": "code",
   "execution_count": 32,
   "id": "1f0b0c23-6814-493c-bcdb-81ca4078aaf8",
   "metadata": {},
   "outputs": [
    {
     "data": {
      "text/plain": [
       "0"
      ]
     },
     "execution_count": 32,
     "metadata": {},
     "output_type": "execute_result"
    }
   ],
   "source": [
    "# Check indexes line up\n",
    "(X_train.index != y_train.index).sum()"
   ]
  },
  {
   "cell_type": "markdown",
   "id": "6a7e3d72-b062-4c1f-bce8-83de94a8d4e2",
   "metadata": {},
   "source": [
    "### Explore Target"
   ]
  },
  {
   "cell_type": "code",
   "execution_count": 35,
   "id": "53d4628b-c3a1-40f1-80fd-974e42bd383c",
   "metadata": {},
   "outputs": [],
   "source": [
    "train = X_train.copy()\n",
    "train['Churn Value'] = y_train.copy()\n"
   ]
  },
  {
   "cell_type": "code",
   "execution_count": 37,
   "id": "e06def30-e48a-412f-960a-e869698d75b7",
   "metadata": {},
   "outputs": [
    {
     "data": {
      "text/plain": [
       "Churn Value\n",
       "0    0.739262\n",
       "1    0.260738\n",
       "Name: proportion, dtype: float64"
      ]
     },
     "execution_count": 37,
     "metadata": {},
     "output_type": "execute_result"
    }
   ],
   "source": [
    "train['Churn Value'].value_counts(normalize = True)"
   ]
  },
  {
   "cell_type": "code",
   "execution_count": 39,
   "id": "c35266a4-efd3-4cc6-974a-4fb3f4043567",
   "metadata": {},
   "outputs": [
    {
     "data": {
      "image/png": "[encoded data removed]",
      "text/plain": [
       "<Figure size 640x480 with 1 Axes>"
      ]
     },
     "metadata": {},
     "output_type": "display_data"
    }
   ],
   "source": [
    "sns.scatterplot(data=train, x='Latitude', y='Churn Value')\n",
    "plt.show()"
   ]
  },
  {
   "cell_type": "markdown",
   "id": "25be5224-dbe5-45b9-9421-bd032574fc34",
   "metadata": {},
   "source": [
    "### Churner Demographic"
   ]
  },
  {
   "cell_type": "markdown",
   "id": "5d34743c-4df0-450a-9c48-2fb9c3bc6cd7",
   "metadata": {},
   "source": [
    "### Finding relationships"
   ]
  },
  {
   "cell_type": "code",
   "execution_count": 43,
   "id": "8841882f-fd1d-48ce-8f28-14c3a1ec315d",
   "metadata": {},
   "outputs": [
    {
     "data": {
      "image/png": "[encoded data removed]",
      "text/plain": [
       "<Figure size 640x480 with 1 Axes>"
      ]
     },
     "metadata": {},
     "output_type": "display_data"
    }
   ],
   "source": [
    "sns.scatterplot(train, x='Tenure Months', y='Churn Value')\n",
    "plt.show()"
   ]
  },
  {
   "cell_type": "markdown",
   "id": "59e6a12a-7b45-44f4-9c8b-da2ea97e1183",
   "metadata": {},
   "source": [
    "## **Feature Engineering**"
   ]
  },
  {
   "cell_type": "code",
   "execution_count": null,
   "id": "69e47bcc-ae33-4e10-9f14-0493c394772d",
   "metadata": {},
   "outputs": [],
   "source": [
    "# New index\n",
    "swan.set_index('CustomerID',inplace=True)"
   ]
  },
  {
   "cell_type": "markdown",
   "id": "d3f69829-93b8-43b9-ab7a-96f4f8838310",
   "metadata": {},
   "source": [
    "* Drop from Feature List: `CustomerID`,`Count`,`Country`,`State`,`City`,`Zip Code`,`Lat Long`,`Churn Reason`\n",
    "> These are multicollinear with other variables \n",
    "* Boolean Label Encode: `Gender`,`Senior Citizen`,`Partner`,`Dependents`,`Phone Service`,`Paperless Billing`,`Multiple Lines`,`Online Security`,`Online Backup`,`Device Protection`,`Tech Support`,`Streaming TV`,`Streaming Movies`\n",
    "* Order Label Encode: `Contract`\n",
    "* One-Hot Encode: `Internet Service`,`Payment Method`\n",
    "* Feature Scaling: Max-Min Scale every feature"
   ]
  },
  {
   "cell_type": "code",
   "execution_count": 46,
   "id": "5f386b99-a369-4911-a597-3dd56ccbaeea",
   "metadata": {},
   "outputs": [],
   "source": [
    "def bool_labeling(df, col_name):\n",
    "    df = df.copy()\n",
    "    col = df[col_name].replace({r'^No.*':0,'Yes':1,0:0,1:1}, regex=True)\n",
    "    return col"
   ]
  },
  {
   "cell_type": "code",
   "execution_count": 48,
   "id": "a314df6d-1efc-4e58-b5a5-8c261f54a997",
   "metadata": {},
   "outputs": [],
   "source": [
    "def gender_labeling(df, col_name):\n",
    "    df = df.copy()\n",
    "    col = df[col_name].replace({'Male':0,'Female':1,0:0,1:1})\n",
    "    return col"
   ]
  },
  {
   "cell_type": "code",
   "execution_count": 50,
   "id": "a4cfaf94-80b6-477d-9c24-ecb7737f54b5",
   "metadata": {},
   "outputs": [],
   "source": [
    "def contract_labeling(df, col_name):\n",
    "    df=df.copy()\n",
    "    col = df[col_name].replace({'One year':12,'Month-to-month':1,'Two year':24})\n",
    "    return col"
   ]
  },
  {
   "cell_type": "code",
   "execution_count": 52,
   "id": "35a65f98-f52a-4e8d-bfa3-303fb545e34c",
   "metadata": {},
   "outputs": [],
   "source": [
    "def ohe(df, col_name):\n",
    "    df=df.copy()\n",
    "    df=pd.get_dummies(df, columns = [f'{col_name}'], prefix = f'{col_name}', drop_first = True, dtype='int')\n",
    "    return df"
   ]
  },
  {
   "cell_type": "code",
   "execution_count": 54,
   "id": "e7c2daf0-9892-4e5e-a2fb-5be37f16bf87",
   "metadata": {},
   "outputs": [],
   "source": [
    "def feature_engineering(df):\n",
    "    df=df.copy()\n",
    "\n",
    "    df = sm.add_constant(df)\n",
    "    \n",
    "    df.drop(columns=['CustomerID','Count','Country','State','City','Zip Code','Lat Long','Churn Reason'],inplace = True)\n",
    "\n",
    "    for col_name in ['Senior Citizen','Partner','Dependents','Phone Service','Paperless Billing','Multiple Lines',\n",
    "                     'Online Security','Online Backup','Device Protection','Tech Support','Streaming TV',\n",
    "                     'Streaming Movies']:\n",
    "        df[col_name] = bool_labeling(df, col_name)\n",
    "\n",
    "    df['Gender'] = gender_labeling(df, 'Gender')\n",
    "    df['Contract'] = contract_labeling(df, 'Contract')\n",
    "    \n",
    "    df = ohe(df,'Internet Service')\n",
    "    df = ohe(df,'Payment Method')\n",
    "\n",
    "    return df\n",
    "    "
   ]
  },
  {
   "cell_type": "code",
   "execution_count": 56,
   "id": "1afdd301-1aeb-46c9-95c7-4d8ae92cc6a0",
   "metadata": {},
   "outputs": [
    {
     "name": "stderr",
     "output_type": "stream",
     "text": [
      "/var/folders/gk/0ym9h57d05v80m40rlpbz2bm0000gq/T/ipykernel_18576/2918864045.py:3: FutureWarning: Downcasting behavior in `replace` is deprecated and will be removed in a future version. To retain the old behavior, explicitly call `result.infer_objects(copy=False)`. To opt-in to the future behavior, set `pd.set_option('future.no_silent_downcasting', True)`\n",
      "  col = df[col_name].replace({r'^No.*':0,'Yes':1,0:0,1:1}, regex=True)\n"
     ]
    }
   ],
   "source": [
    "X_train_fe = feature_engineering(X_train)"
   ]
  },
  {
   "cell_type": "markdown",
   "id": "f567acce-bb75-4181-b87a-b0c3e63dd06b",
   "metadata": {},
   "source": [
    "### **Scaling**"
   ]
  },
  {
   "cell_type": "code",
   "execution_count": 59,
   "id": "61d7246d-6a5a-4da5-bee9-106e48205553",
   "metadata": {},
   "outputs": [
    {
     "data": {
      "text/html": [
       "<style>#sk-container-id-1 {\n",
       "  /* Definition of color scheme common for light and dark mode */\n",
       "  --sklearn-color-text: black;\n",
       "  --sklearn-color-line: gray;\n",
       "  /* Definition of color scheme for unfitted estimators */\n",
       "  --sklearn-color-unfitted-level-0: #fff5e6;\n",
       "  --sklearn-color-unfitted-level-1: #f6e4d2;\n",
       "  --sklearn-color-unfitted-level-2: #ffe0b3;\n",
       "  --sklearn-color-unfitted-level-3: chocolate;\n",
       "  /* Definition of color scheme for fitted estimators */\n",
       "  --sklearn-color-fitted-level-0: #f0f8ff;\n",
       "  --sklearn-color-fitted-level-1: #d4ebff;\n",
       "  --sklearn-color-fitted-level-2: #b3dbfd;\n",
       "  --sklearn-color-fitted-level-3: cornflowerblue;\n",
       "\n",
       "  /* Specific color for light theme */\n",
       "  --sklearn-color-text-on-default-background: var(--sg-text-color, var(--theme-code-foreground, var(--jp-content-font-color1, black)));\n",
       "  --sklearn-color-background: var(--sg-background-color, var(--theme-background, var(--jp-layout-color0, white)));\n",
       "  --sklearn-color-border-box: var(--sg-text-color, var(--theme-code-foreground, var(--jp-content-font-color1, black)));\n",
       "  --sklearn-color-icon: #696969;\n",
       "\n",
       "  @media (prefers-color-scheme: dark) {\n",
       "    /* Redefinition of color scheme for dark theme */\n",
       "    --sklearn-color-text-on-default-background: var(--sg-text-color, var(--theme-code-foreground, var(--jp-content-font-color1, white)));\n",
       "    --sklearn-color-background: var(--sg-background-color, var(--theme-background, var(--jp-layout-color0, #111)));\n",
       "    --sklearn-color-border-box: var(--sg-text-color, var(--theme-code-foreground, var(--jp-content-font-color1, white)));\n",
       "    --sklearn-color-icon: #878787;\n",
       "  }\n",
       "}\n",
       "\n",
       "#sk-container-id-1 {\n",
       "  color: var(--sklearn-color-text);\n",
       "}\n",
       "\n",
       "#sk-container-id-1 pre {\n",
       "  padding: 0;\n",
       "}\n",
       "\n",
       "#sk-container-id-1 input.sk-hidden--visually {\n",
       "  border: 0;\n",
       "  clip: rect(1px 1px 1px 1px);\n",
       "  clip: rect(1px, 1px, 1px, 1px);\n",
       "  height: 1px;\n",
       "  margin: -1px;\n",
       "  overflow: hidden;\n",
       "  padding: 0;\n",
       "  position: absolute;\n",
       "  width: 1px;\n",
       "}\n",
       "\n",
       "#sk-container-id-1 div.sk-dashed-wrapped {\n",
       "  border: 1px dashed var(--sklearn-color-line);\n",
       "  margin: 0 0.4em 0.5em 0.4em;\n",
       "  box-sizing: border-box;\n",
       "  padding-bottom: 0.4em;\n",
       "  background-color: var(--sklearn-color-background);\n",
       "}\n",
       "\n",
       "#sk-container-id-1 div.sk-container {\n",
       "  /* jupyter's `normalize.less` sets `[hidden] { display: none; }`\n",
       "     but bootstrap.min.css set `[hidden] { display: none !important; }`\n",
       "     so we also need the `!important` here to be able to override the\n",
       "     default hidden behavior on the sphinx rendered scikit-learn.org.\n",
       "     See: https://github.com/scikit-learn/scikit-learn/issues/21755 */\n",
       "  display: inline-block !important;\n",
       "  position: relative;\n",
       "}\n",
       "\n",
       "#sk-container-id-1 div.sk-text-repr-fallback {\n",
       "  display: none;\n",
       "}\n",
       "\n",
       "div.sk-parallel-item,\n",
       "div.sk-serial,\n",
       "div.sk-item {\n",
       "  /* draw centered vertical line to link estimators */\n",
       "  background-image: linear-gradient(var(--sklearn-color-text-on-default-background), var(--sklearn-color-text-on-default-background));\n",
       "  background-size: 2px 100%;\n",
       "  background-repeat: no-repeat;\n",
       "  background-position: center center;\n",
       "}\n",
       "\n",
       "/* Parallel-specific style estimator block */\n",
       "\n",
       "#sk-container-id-1 div.sk-parallel-item::after {\n",
       "  content: \"\";\n",
       "  width: 100%;\n",
       "  border-bottom: 2px solid var(--sklearn-color-text-on-default-background);\n",
       "  flex-grow: 1;\n",
       "}\n",
       "\n",
       "#sk-container-id-1 div.sk-parallel {\n",
       "  display: flex;\n",
       "  align-items: stretch;\n",
       "  justify-content: center;\n",
       "  background-color: var(--sklearn-color-background);\n",
       "  position: relative;\n",
       "}\n",
       "\n",
       "#sk-container-id-1 div.sk-parallel-item {\n",
       "  display: flex;\n",
       "  flex-direction: column;\n",
       "}\n",
       "\n",
       "#sk-container-id-1 div.sk-parallel-item:first-child::after {\n",
       "  align-self: flex-end;\n",
       "  width: 50%;\n",
       "}\n",
       "\n",
       "#sk-container-id-1 div.sk-parallel-item:last-child::after {\n",
       "  align-self: flex-start;\n",
       "  width: 50%;\n",
       "}\n",
       "\n",
       "#sk-container-id-1 div.sk-parallel-item:only-child::after {\n",
       "  width: 0;\n",
       "}\n",
       "\n",
       "/* Serial-specific style estimator block */\n",
       "\n",
       "#sk-container-id-1 div.sk-serial {\n",
       "  display: flex;\n",
       "  flex-direction: column;\n",
       "  align-items: center;\n",
       "  background-color: var(--sklearn-color-background);\n",
       "  padding-right: 1em;\n",
       "  padding-left: 1em;\n",
       "}\n",
       "\n",
       "\n",
       "/* Toggleable style: style used for estimator/Pipeline/ColumnTransformer box that is\n",
       "clickable and can be expanded/collapsed.\n",
       "- Pipeline and ColumnTransformer use this feature and define the default style\n",
       "- Estimators will overwrite some part of the style using the `sk-estimator` class\n",
       "*/\n",
       "\n",
       "/* Pipeline and ColumnTransformer style (default) */\n",
       "\n",
       "#sk-container-id-1 div.sk-toggleable {\n",
       "  /* Default theme specific background. It is overwritten whether we have a\n",
       "  specific estimator or a Pipeline/ColumnTransformer */\n",
       "  background-color: var(--sklearn-color-background);\n",
       "}\n",
       "\n",
       "/* Toggleable label */\n",
       "#sk-container-id-1 label.sk-toggleable__label {\n",
       "  cursor: pointer;\n",
       "  display: block;\n",
       "  width: 100%;\n",
       "  margin-bottom: 0;\n",
       "  padding: 0.5em;\n",
       "  box-sizing: border-box;\n",
       "  text-align: center;\n",
       "}\n",
       "\n",
       "#sk-container-id-1 label.sk-toggleable__label-arrow:before {\n",
       "  /* Arrow on the left of the label */\n",
       "  content: \"▸\";\n",
       "  float: left;\n",
       "  margin-right: 0.25em;\n",
       "  color: var(--sklearn-color-icon);\n",
       "}\n",
       "\n",
       "#sk-container-id-1 label.sk-toggleable__label-arrow:hover:before {\n",
       "  color: var(--sklearn-color-text);\n",
       "}\n",
       "\n",
       "/* Toggleable content - dropdown */\n",
       "\n",
       "#sk-container-id-1 div.sk-toggleable__content {\n",
       "  max-height: 0;\n",
       "  max-width: 0;\n",
       "  overflow: hidden;\n",
       "  text-align: left;\n",
       "  /* unfitted */\n",
       "  background-color: var(--sklearn-color-unfitted-level-0);\n",
       "}\n",
       "\n",
       "#sk-container-id-1 div.sk-toggleable__content.fitted {\n",
       "  /* fitted */\n",
       "  background-color: var(--sklearn-color-fitted-level-0);\n",
       "}\n",
       "\n",
       "#sk-container-id-1 div.sk-toggleable__content pre {\n",
       "  margin: 0.2em;\n",
       "  border-radius: 0.25em;\n",
       "  color: var(--sklearn-color-text);\n",
       "  /* unfitted */\n",
       "  background-color: var(--sklearn-color-unfitted-level-0);\n",
       "}\n",
       "\n",
       "#sk-container-id-1 div.sk-toggleable__content.fitted pre {\n",
       "  /* unfitted */\n",
       "  background-color: var(--sklearn-color-fitted-level-0);\n",
       "}\n",
       "\n",
       "#sk-container-id-1 input.sk-toggleable__control:checked~div.sk-toggleable__content {\n",
       "  /* Expand drop-down */\n",
       "  max-height: 200px;\n",
       "  max-width: 100%;\n",
       "  overflow: auto;\n",
       "}\n",
       "\n",
       "#sk-container-id-1 input.sk-toggleable__control:checked~label.sk-toggleable__label-arrow:before {\n",
       "  content: \"▾\";\n",
       "}\n",
       "\n",
       "/* Pipeline/ColumnTransformer-specific style */\n",
       "\n",
       "#sk-container-id-1 div.sk-label input.sk-toggleable__control:checked~label.sk-toggleable__label {\n",
       "  color: var(--sklearn-color-text);\n",
       "  background-color: var(--sklearn-color-unfitted-level-2);\n",
       "}\n",
       "\n",
       "#sk-container-id-1 div.sk-label.fitted input.sk-toggleable__control:checked~label.sk-toggleable__label {\n",
       "  background-color: var(--sklearn-color-fitted-level-2);\n",
       "}\n",
       "\n",
       "/* Estimator-specific style */\n",
       "\n",
       "/* Colorize estimator box */\n",
       "#sk-container-id-1 div.sk-estimator input.sk-toggleable__control:checked~label.sk-toggleable__label {\n",
       "  /* unfitted */\n",
       "  background-color: var(--sklearn-color-unfitted-level-2);\n",
       "}\n",
       "\n",
       "#sk-container-id-1 div.sk-estimator.fitted input.sk-toggleable__control:checked~label.sk-toggleable__label {\n",
       "  /* fitted */\n",
       "  background-color: var(--sklearn-color-fitted-level-2);\n",
       "}\n",
       "\n",
       "#sk-container-id-1 div.sk-label label.sk-toggleable__label,\n",
       "#sk-container-id-1 div.sk-label label {\n",
       "  /* The background is the default theme color */\n",
       "  color: var(--sklearn-color-text-on-default-background);\n",
       "}\n",
       "\n",
       "/* On hover, darken the color of the background */\n",
       "#sk-container-id-1 div.sk-label:hover label.sk-toggleable__label {\n",
       "  color: var(--sklearn-color-text);\n",
       "  background-color: var(--sklearn-color-unfitted-level-2);\n",
       "}\n",
       "\n",
       "/* Label box, darken color on hover, fitted */\n",
       "#sk-container-id-1 div.sk-label.fitted:hover label.sk-toggleable__label.fitted {\n",
       "  color: var(--sklearn-color-text);\n",
       "  background-color: var(--sklearn-color-fitted-level-2);\n",
       "}\n",
       "\n",
       "/* Estimator label */\n",
       "\n",
       "#sk-container-id-1 div.sk-label label {\n",
       "  font-family: monospace;\n",
       "  font-weight: bold;\n",
       "  display: inline-block;\n",
       "  line-height: 1.2em;\n",
       "}\n",
       "\n",
       "#sk-container-id-1 div.sk-label-container {\n",
       "  text-align: center;\n",
       "}\n",
       "\n",
       "/* Estimator-specific */\n",
       "#sk-container-id-1 div.sk-estimator {\n",
       "  font-family: monospace;\n",
       "  border: 1px dotted var(--sklearn-color-border-box);\n",
       "  border-radius: 0.25em;\n",
       "  box-sizing: border-box;\n",
       "  margin-bottom: 0.5em;\n",
       "  /* unfitted */\n",
       "  background-color: var(--sklearn-color-unfitted-level-0);\n",
       "}\n",
       "\n",
       "#sk-container-id-1 div.sk-estimator.fitted {\n",
       "  /* fitted */\n",
       "  background-color: var(--sklearn-color-fitted-level-0);\n",
       "}\n",
       "\n",
       "/* on hover */\n",
       "#sk-container-id-1 div.sk-estimator:hover {\n",
       "  /* unfitted */\n",
       "  background-color: var(--sklearn-color-unfitted-level-2);\n",
       "}\n",
       "\n",
       "#sk-container-id-1 div.sk-estimator.fitted:hover {\n",
       "  /* fitted */\n",
       "  background-color: var(--sklearn-color-fitted-level-2);\n",
       "}\n",
       "\n",
       "/* Specification for estimator info (e.g. \"i\" and \"?\") */\n",
       "\n",
       "/* Common style for \"i\" and \"?\" */\n",
       "\n",
       ".sk-estimator-doc-link,\n",
       "a:link.sk-estimator-doc-link,\n",
       "a:visited.sk-estimator-doc-link {\n",
       "  float: right;\n",
       "  font-size: smaller;\n",
       "  line-height: 1em;\n",
       "  font-family: monospace;\n",
       "  background-color: var(--sklearn-color-background);\n",
       "  border-radius: 1em;\n",
       "  height: 1em;\n",
       "  width: 1em;\n",
       "  text-decoration: none !important;\n",
       "  margin-left: 1ex;\n",
       "  /* unfitted */\n",
       "  border: var(--sklearn-color-unfitted-level-1) 1pt solid;\n",
       "  color: var(--sklearn-color-unfitted-level-1);\n",
       "}\n",
       "\n",
       ".sk-estimator-doc-link.fitted,\n",
       "a:link.sk-estimator-doc-link.fitted,\n",
       "a:visited.sk-estimator-doc-link.fitted {\n",
       "  /* fitted */\n",
       "  border: var(--sklearn-color-fitted-level-1) 1pt solid;\n",
       "  color: var(--sklearn-color-fitted-level-1);\n",
       "}\n",
       "\n",
       "/* On hover */\n",
       "div.sk-estimator:hover .sk-estimator-doc-link:hover,\n",
       ".sk-estimator-doc-link:hover,\n",
       "div.sk-label-container:hover .sk-estimator-doc-link:hover,\n",
       ".sk-estimator-doc-link:hover {\n",
       "  /* unfitted */\n",
       "  background-color: var(--sklearn-color-unfitted-level-3);\n",
       "  color: var(--sklearn-color-background);\n",
       "  text-decoration: none;\n",
       "}\n",
       "\n",
       "div.sk-estimator.fitted:hover .sk-estimator-doc-link.fitted:hover,\n",
       ".sk-estimator-doc-link.fitted:hover,\n",
       "div.sk-label-container:hover .sk-estimator-doc-link.fitted:hover,\n",
       ".sk-estimator-doc-link.fitted:hover {\n",
       "  /* fitted */\n",
       "  background-color: var(--sklearn-color-fitted-level-3);\n",
       "  color: var(--sklearn-color-background);\n",
       "  text-decoration: none;\n",
       "}\n",
       "\n",
       "/* Span, style for the box shown on hovering the info icon */\n",
       ".sk-estimator-doc-link span {\n",
       "  display: none;\n",
       "  z-index: 9999;\n",
       "  position: relative;\n",
       "  font-weight: normal;\n",
       "  right: .2ex;\n",
       "  padding: .5ex;\n",
       "  margin: .5ex;\n",
       "  width: min-content;\n",
       "  min-width: 20ex;\n",
       "  max-width: 50ex;\n",
       "  color: var(--sklearn-color-text);\n",
       "  box-shadow: 2pt 2pt 4pt #999;\n",
       "  /* unfitted */\n",
       "  background: var(--sklearn-color-unfitted-level-0);\n",
       "  border: .5pt solid var(--sklearn-color-unfitted-level-3);\n",
       "}\n",
       "\n",
       ".sk-estimator-doc-link.fitted span {\n",
       "  /* fitted */\n",
       "  background: var(--sklearn-color-fitted-level-0);\n",
       "  border: var(--sklearn-color-fitted-level-3);\n",
       "}\n",
       "\n",
       ".sk-estimator-doc-link:hover span {\n",
       "  display: block;\n",
       "}\n",
       "\n",
       "/* \"?\"-specific style due to the `<a>` HTML tag */\n",
       "\n",
       "#sk-container-id-1 a.estimator_doc_link {\n",
       "  float: right;\n",
       "  font-size: 1rem;\n",
       "  line-height: 1em;\n",
       "  font-family: monospace;\n",
       "  background-color: var(--sklearn-color-background);\n",
       "  border-radius: 1rem;\n",
       "  height: 1rem;\n",
       "  width: 1rem;\n",
       "  text-decoration: none;\n",
       "  /* unfitted */\n",
       "  color: var(--sklearn-color-unfitted-level-1);\n",
       "  border: var(--sklearn-color-unfitted-level-1) 1pt solid;\n",
       "}\n",
       "\n",
       "#sk-container-id-1 a.estimator_doc_link.fitted {\n",
       "  /* fitted */\n",
       "  border: var(--sklearn-color-fitted-level-1) 1pt solid;\n",
       "  color: var(--sklearn-color-fitted-level-1);\n",
       "}\n",
       "\n",
       "/* On hover */\n",
       "#sk-container-id-1 a.estimator_doc_link:hover {\n",
       "  /* unfitted */\n",
       "  background-color: var(--sklearn-color-unfitted-level-3);\n",
       "  color: var(--sklearn-color-background);\n",
       "  text-decoration: none;\n",
       "}\n",
       "\n",
       "#sk-container-id-1 a.estimator_doc_link.fitted:hover {\n",
       "  /* fitted */\n",
       "  background-color: var(--sklearn-color-fitted-level-3);\n",
       "}\n",
       "</style><div id=\"sk-container-id-1\" class=\"sk-top-container\"><div class=\"sk-text-repr-fallback\"><pre>MinMaxScaler()</pre><b>In a Jupyter environment, please rerun this cell to show the HTML representation or trust the notebook. <br />On GitHub, the HTML representation is unable to render, please try loading this page with nbviewer.org.</b></div><div class=\"sk-container\" hidden><div class=\"sk-item\"><div class=\"sk-estimator fitted sk-toggleable\"><input class=\"sk-toggleable__control sk-hidden--visually\" id=\"sk-estimator-id-1\" type=\"checkbox\" checked><label for=\"sk-estimator-id-1\" class=\"sk-toggleable__label fitted sk-toggleable__label-arrow fitted\">&nbsp;&nbsp;MinMaxScaler<a class=\"sk-estimator-doc-link fitted\" rel=\"noreferrer\" target=\"_blank\" href=\"https://scikit-learn.org/1.5/modules/generated/sklearn.preprocessing.MinMaxScaler.html\">?<span>Documentation for MinMaxScaler</span></a><span class=\"sk-estimator-doc-link fitted\">i<span>Fitted</span></span></label><div class=\"sk-toggleable__content fitted\"><pre>MinMaxScaler()</pre></div> </div></div></div></div>"
      ],
      "text/plain": [
       "MinMaxScaler()"
      ]
     },
     "execution_count": 59,
     "metadata": {},
     "output_type": "execute_result"
    }
   ],
   "source": [
    "train_minmax = MinMaxScaler() ## Initialise scaler\n",
    "train_minmax.fit(X_train_fe)"
   ]
  },
  {
   "cell_type": "code",
   "execution_count": 60,
   "id": "ebab65bd-c54b-4ea5-a694-5c79a786394c",
   "metadata": {},
   "outputs": [],
   "source": [
    "def max_min(df):\n",
    "    global train_minmax\n",
    "    df=df.copy()\n",
    "    df = train_minmax.transform(df)\n",
    "    return df"
   ]
  },
  {
   "cell_type": "code",
   "execution_count": 63,
   "id": "fc35e82c-d2db-4faf-bf97-61be0830cadd",
   "metadata": {},
   "outputs": [],
   "source": [
    "X_train_fe_scaled = pd.DataFrame(max_min(X_train_fe), index = X_train_fe.index, columns = X_train_fe.columns)"
   ]
  },
  {
   "cell_type": "code",
   "execution_count": 64,
   "id": "a931b940-109c-4fa5-879b-cceee09823d4",
   "metadata": {},
   "outputs": [
    {
     "data": {
      "text/html": [
       "<div>\n",
       "<style scoped>\n",
       "    .dataframe tbody tr th:only-of-type {\n",
       "        vertical-align: middle;\n",
       "    }\n",
       "\n",
       "    .dataframe tbody tr th {\n",
       "        vertical-align: top;\n",
       "    }\n",
       "\n",
       "    .dataframe thead th {\n",
       "        text-align: right;\n",
       "    }\n",
       "</style>\n",
       "<table border=\"1\" class=\"dataframe\">\n",
       "  <thead>\n",
       "    <tr style=\"text-align: right;\">\n",
       "      <th></th>\n",
       "      <th>Latitude</th>\n",
       "      <th>Longitude</th>\n",
       "      <th>Gender</th>\n",
       "      <th>Senior Citizen</th>\n",
       "      <th>Partner</th>\n",
       "      <th>Dependents</th>\n",
       "      <th>Tenure Months</th>\n",
       "      <th>Phone Service</th>\n",
       "      <th>Multiple Lines</th>\n",
       "      <th>Online Security</th>\n",
       "      <th>Online Backup</th>\n",
       "      <th>Device Protection</th>\n",
       "      <th>Tech Support</th>\n",
       "      <th>Streaming TV</th>\n",
       "      <th>Streaming Movies</th>\n",
       "      <th>Contract</th>\n",
       "      <th>Paperless Billing</th>\n",
       "      <th>Monthly Charges</th>\n",
       "      <th>Total Charges</th>\n",
       "      <th>Internet Service_Fiber optic</th>\n",
       "      <th>Internet Service_No</th>\n",
       "      <th>Payment Method_Credit card (automatic)</th>\n",
       "      <th>Payment Method_Electronic check</th>\n",
       "      <th>Payment Method_Mailed check</th>\n",
       "    </tr>\n",
       "  </thead>\n",
       "  <tbody>\n",
       "    <tr>\n",
       "      <th>2142</th>\n",
       "      <td>0.026273</td>\n",
       "      <td>0.719622</td>\n",
       "      <td>0.0</td>\n",
       "      <td>0.0</td>\n",
       "      <td>1.0</td>\n",
       "      <td>0.0</td>\n",
       "      <td>0.986111</td>\n",
       "      <td>1.0</td>\n",
       "      <td>1.0</td>\n",
       "      <td>0.0</td>\n",
       "      <td>0.0</td>\n",
       "      <td>1.0</td>\n",
       "      <td>0.0</td>\n",
       "      <td>1.0</td>\n",
       "      <td>1.0</td>\n",
       "      <td>0.478261</td>\n",
       "      <td>1.0</td>\n",
       "      <td>0.801196</td>\n",
       "      <td>0.801728</td>\n",
       "      <td>1.0</td>\n",
       "      <td>0.0</td>\n",
       "      <td>1.0</td>\n",
       "      <td>0.0</td>\n",
       "      <td>0.0</td>\n",
       "    </tr>\n",
       "    <tr>\n",
       "      <th>1623</th>\n",
       "      <td>0.562589</td>\n",
       "      <td>0.377385</td>\n",
       "      <td>1.0</td>\n",
       "      <td>0.0</td>\n",
       "      <td>0.0</td>\n",
       "      <td>0.0</td>\n",
       "      <td>0.222222</td>\n",
       "      <td>1.0</td>\n",
       "      <td>0.0</td>\n",
       "      <td>0.0</td>\n",
       "      <td>1.0</td>\n",
       "      <td>1.0</td>\n",
       "      <td>0.0</td>\n",
       "      <td>0.0</td>\n",
       "      <td>1.0</td>\n",
       "      <td>0.000000</td>\n",
       "      <td>1.0</td>\n",
       "      <td>0.746886</td>\n",
       "      <td>0.181202</td>\n",
       "      <td>1.0</td>\n",
       "      <td>0.0</td>\n",
       "      <td>1.0</td>\n",
       "      <td>0.0</td>\n",
       "      <td>0.0</td>\n",
       "    </tr>\n",
       "    <tr>\n",
       "      <th>6074</th>\n",
       "      <td>0.207249</td>\n",
       "      <td>0.627822</td>\n",
       "      <td>1.0</td>\n",
       "      <td>0.0</td>\n",
       "      <td>0.0</td>\n",
       "      <td>0.0</td>\n",
       "      <td>0.444444</td>\n",
       "      <td>1.0</td>\n",
       "      <td>1.0</td>\n",
       "      <td>0.0</td>\n",
       "      <td>1.0</td>\n",
       "      <td>1.0</td>\n",
       "      <td>0.0</td>\n",
       "      <td>1.0</td>\n",
       "      <td>1.0</td>\n",
       "      <td>0.478261</td>\n",
       "      <td>1.0</td>\n",
       "      <td>0.855007</td>\n",
       "      <td>0.393429</td>\n",
       "      <td>1.0</td>\n",
       "      <td>0.0</td>\n",
       "      <td>1.0</td>\n",
       "      <td>0.0</td>\n",
       "      <td>0.0</td>\n",
       "    </tr>\n",
       "    <tr>\n",
       "      <th>1362</th>\n",
       "      <td>0.162030</td>\n",
       "      <td>0.618756</td>\n",
       "      <td>1.0</td>\n",
       "      <td>1.0</td>\n",
       "      <td>1.0</td>\n",
       "      <td>0.0</td>\n",
       "      <td>0.333333</td>\n",
       "      <td>0.0</td>\n",
       "      <td>0.0</td>\n",
       "      <td>0.0</td>\n",
       "      <td>0.0</td>\n",
       "      <td>1.0</td>\n",
       "      <td>0.0</td>\n",
       "      <td>0.0</td>\n",
       "      <td>1.0</td>\n",
       "      <td>0.000000</td>\n",
       "      <td>1.0</td>\n",
       "      <td>0.223219</td>\n",
       "      <td>0.107464</td>\n",
       "      <td>0.0</td>\n",
       "      <td>0.0</td>\n",
       "      <td>1.0</td>\n",
       "      <td>0.0</td>\n",
       "      <td>0.0</td>\n",
       "    </tr>\n",
       "    <tr>\n",
       "      <th>6754</th>\n",
       "      <td>0.152314</td>\n",
       "      <td>0.590326</td>\n",
       "      <td>1.0</td>\n",
       "      <td>0.0</td>\n",
       "      <td>1.0</td>\n",
       "      <td>1.0</td>\n",
       "      <td>0.277778</td>\n",
       "      <td>1.0</td>\n",
       "      <td>0.0</td>\n",
       "      <td>0.0</td>\n",
       "      <td>0.0</td>\n",
       "      <td>0.0</td>\n",
       "      <td>0.0</td>\n",
       "      <td>0.0</td>\n",
       "      <td>0.0</td>\n",
       "      <td>0.000000</td>\n",
       "      <td>0.0</td>\n",
       "      <td>0.017937</td>\n",
       "      <td>0.046754</td>\n",
       "      <td>0.0</td>\n",
       "      <td>1.0</td>\n",
       "      <td>0.0</td>\n",
       "      <td>0.0</td>\n",
       "      <td>1.0</td>\n",
       "    </tr>\n",
       "  </tbody>\n",
       "</table>\n",
       "</div>"
      ],
      "text/plain": [
       "      Latitude  Longitude  Gender  Senior Citizen  Partner  Dependents  \\\n",
       "2142  0.026273   0.719622     0.0             0.0      1.0         0.0   \n",
       "1623  0.562589   0.377385     1.0             0.0      0.0         0.0   \n",
       "6074  0.207249   0.627822     1.0             0.0      0.0         0.0   \n",
       "1362  0.162030   0.618756     1.0             1.0      1.0         0.0   \n",
       "6754  0.152314   0.590326     1.0             0.0      1.0         1.0   \n",
       "\n",
       "      Tenure Months  Phone Service  Multiple Lines  Online Security  \\\n",
       "2142       0.986111            1.0             1.0              0.0   \n",
       "1623       0.222222            1.0             0.0              0.0   \n",
       "6074       0.444444            1.0             1.0              0.0   \n",
       "1362       0.333333            0.0             0.0              0.0   \n",
       "6754       0.277778            1.0             0.0              0.0   \n",
       "\n",
       "      Online Backup  Device Protection  Tech Support  Streaming TV  \\\n",
       "2142            0.0                1.0           0.0           1.0   \n",
       "1623            1.0                1.0           0.0           0.0   \n",
       "6074            1.0                1.0           0.0           1.0   \n",
       "1362            0.0                1.0           0.0           0.0   \n",
       "6754            0.0                0.0           0.0           0.0   \n",
       "\n",
       "      Streaming Movies  Contract  Paperless Billing  Monthly Charges  \\\n",
       "2142               1.0  0.478261                1.0         0.801196   \n",
       "1623               1.0  0.000000                1.0         0.746886   \n",
       "6074               1.0  0.478261                1.0         0.855007   \n",
       "1362               1.0  0.000000                1.0         0.223219   \n",
       "6754               0.0  0.000000                0.0         0.017937   \n",
       "\n",
       "      Total Charges  Internet Service_Fiber optic  Internet Service_No  \\\n",
       "2142       0.801728                           1.0                  0.0   \n",
       "1623       0.181202                           1.0                  0.0   \n",
       "6074       0.393429                           1.0                  0.0   \n",
       "1362       0.107464                           0.0                  0.0   \n",
       "6754       0.046754                           0.0                  1.0   \n",
       "\n",
       "      Payment Method_Credit card (automatic)  Payment Method_Electronic check  \\\n",
       "2142                                     1.0                              0.0   \n",
       "1623                                     1.0                              0.0   \n",
       "6074                                     1.0                              0.0   \n",
       "1362                                     1.0                              0.0   \n",
       "6754                                     0.0                              0.0   \n",
       "\n",
       "      Payment Method_Mailed check  \n",
       "2142                          0.0  \n",
       "1623                          0.0  \n",
       "6074                          0.0  \n",
       "1362                          0.0  \n",
       "6754                          1.0  "
      ]
     },
     "execution_count": 64,
     "metadata": {},
     "output_type": "execute_result"
    }
   ],
   "source": [
    "X_train_fe_scaled.head()"
   ]
  },
  {
   "cell_type": "markdown",
   "id": "0399a9a1-27df-40f7-aa4f-cfb16a1b718d",
   "metadata": {},
   "source": [
    "### **Feature Selection**"
   ]
  },
  {
   "cell_type": "code",
   "execution_count": 68,
   "id": "c1aa3d83-3a54-4f65-8e18-baceb6e77c77",
   "metadata": {},
   "outputs": [],
   "source": [
    "## This a piece of code from stats.stackexchange.com\n",
    "\n",
    "## It runs the model with all the variables.\n",
    "## If any of them have a higher VIF than 4, it drops the max. \n",
    "## Then it keeps going until none of them have a higher VIF than 5.\n",
    "## This leaves us with a nice set of features with no collineraity\n",
    "\n",
    "def calculate_vif(X, thresh = 10.0):\n",
    "    variables = list(range(X.shape[1]))\n",
    "    dropped = True\n",
    "    while dropped:\n",
    "        dropped = False\n",
    "        # this bit uses list comprehension to gather all the VIF values of the different variables\n",
    "        vif = [variance_inflation_factor(X.iloc[:, variables].values, ix)\n",
    "               for ix in range(X.iloc[:, variables].shape[1])]\n",
    "        \n",
    "        maxloc = vif.index(max(vif)) # getting the index of the highest VIF value\n",
    "        if max(vif) > thresh:\n",
    "            print('dropping \\'' + X.iloc[:, variables].columns[maxloc] +\n",
    "                  '\\' at index: ' + str(maxloc))\n",
    "            del variables[maxloc] # we delete the highest VIF value on condition that it's higher than the threshold\n",
    "            dropped = True # if we deleted anything, we set the 'dropped' value to True to stay in the while loop\n",
    "\n",
    "    print('Remaining variables:')\n",
    "    return list(X.columns[variables]) # finally, we print the variables that are still in our set\n",
    "   "
   ]
  },
  {
   "cell_type": "code",
   "execution_count": 70,
   "id": "cfa8fa83-c000-4200-aff7-69ccc21c7efe",
   "metadata": {},
   "outputs": [],
   "source": [
    "#def calculate_vif(X):\n",
    "  #  X = sm.add_constant(X)    # Adds a constant to DataFrame X so that the function \"variance_inflation_factor\" can perform its tests\n",
    "  #  vif_data = pd.DataFrame()    # Creates DataFrame that will be used to visualize vif data\n",
    "   # vif_data['Variable'] = X.columns\n",
    "   # vif_data['VIF'] = [variance_inflation_factor(X.values, i) for i in range(X.shape[1])]\n",
    "   # return vif_data"
   ]
  },
  {
   "cell_type": "code",
   "execution_count": 124,
   "id": "2f517ca0-5d32-4d85-83a3-8a7671f3971f",
   "metadata": {},
   "outputs": [
    {
     "name": "stdout",
     "output_type": "stream",
     "text": [
      "dropping 'Monthly Charges' at index: 17\n",
      "dropping 'Total Charges' at index: 17\n",
      "dropping 'Phone Service' at index: 7\n",
      "Remaining variables:\n"
     ]
    }
   ],
   "source": [
    "selected_features = calculate_vif(X_train_fe_scaled)"
   ]
  },
  {
   "cell_type": "code",
   "execution_count": null,
   "id": "d136ea6a-624e-4786-8595-f577dec9fb05",
   "metadata": {},
   "outputs": [],
   "source": []
  },
  {
   "cell_type": "code",
   "execution_count": 126,
   "id": "8464bd5b-3120-495b-acb1-4e8798149a7e",
   "metadata": {},
   "outputs": [],
   "source": [
    "def feature_selection(df):\n",
    "    global selected_features\n",
    "    df=df.copy()\n",
    "    df=df[selected_features]\n",
    "    return df"
   ]
  },
  {
   "cell_type": "code",
   "execution_count": 127,
   "id": "f02696f6-378a-4c00-90d4-6e293562a465",
   "metadata": {},
   "outputs": [],
   "source": [
    "X_train_final = feature_selection(X_train_fe_scaled)"
   ]
  },
  {
   "cell_type": "markdown",
   "id": "91f82221-a640-490d-a418-365ded81522f",
   "metadata": {},
   "source": [
    "## **Modeling**"
   ]
  },
  {
   "cell_type": "code",
   "execution_count": null,
   "id": "8b8b8511-2d05-45ab-ab9a-7f39b92f4cba",
   "metadata": {},
   "outputs": [],
   "source": [
    "#lr = LogisticRegression(max_iter=300, random_state=10)"
   ]
  },
  {
   "cell_type": "code",
   "execution_count": null,
   "id": "1ea484a0-e743-4d69-afef-1a6df2444016",
   "metadata": {},
   "outputs": [],
   "source": [
    "#lr.fit(X_train_fe_scaled, y_train)"
   ]
  },
  {
   "cell_type": "code",
   "execution_count": null,
   "id": "89b6aa29-3684-4a8d-b4db-89c9cae355d6",
   "metadata": {},
   "outputs": [],
   "source": [
    "#results = pd.DataFrame()\n",
    "#results[['prob_stay', 'prob_leave']] = lr.predict_proba(X_train_fe_scaled)"
   ]
  },
  {
   "cell_type": "code",
   "execution_count": null,
   "id": "3376d321-3b86-423c-89c1-543d22ffd258",
   "metadata": {},
   "outputs": [],
   "source": [
    "#results['y_pred'] = np.where(results['prob_leave']>.5, 1, 0)"
   ]
  },
  {
   "cell_type": "code",
   "execution_count": 78,
   "id": "39b4d101-079b-4065-8bee-90c7597e6d77",
   "metadata": {},
   "outputs": [],
   "source": [
    "def get_results(actual, predicted):\n",
    "    print(\"The confusion matrix for your predictions is:\")\n",
    "    print(metrics.confusion_matrix(actual, predicted), \"\\n\")\n",
    "    print(f'The accuracy of your model is: {metrics.accuracy_score(actual, predicted)}')\n",
    "    print(f'The recall of your model is: {metrics.recall_score(actual, predicted)}')\n",
    "    print(f'The precision of your model is: {metrics.precision_score(actual, predicted)}')\n",
    "    print(f'The F1-score of your model is: {metrics.f1_score(actual, predicted)}')"
   ]
  },
  {
   "cell_type": "code",
   "execution_count": null,
   "id": "c13abf42-7150-4f48-86f6-3867410ff05e",
   "metadata": {},
   "outputs": [],
   "source": [
    "#get_results(y_train, results['y_pred'])"
   ]
  },
  {
   "cell_type": "markdown",
   "id": "2b9a1def-cec7-4664-9b59-1a0dcde181ff",
   "metadata": {},
   "source": [
    "## **Evaluation**"
   ]
  },
  {
   "cell_type": "code",
   "execution_count": null,
   "id": "6ca8904b-e578-4c0c-a957-438fe205ace2",
   "metadata": {},
   "outputs": [],
   "source": [
    "#X_test_fe = feature_engineering(X_test)"
   ]
  },
  {
   "cell_type": "code",
   "execution_count": null,
   "id": "29fcab34-16e0-4b0e-959f-028281a114ad",
   "metadata": {},
   "outputs": [],
   "source": [
    "#X_test_fe_scaled = pd.DataFrame(max_min(X_test_fe), index = X_test_fe.index, columns = X_test_fe.columns)"
   ]
  },
  {
   "cell_type": "code",
   "execution_count": null,
   "id": "2463e497-a02f-4638-8f7e-16331c40372a",
   "metadata": {},
   "outputs": [],
   "source": [
    "#results_test = pd.DataFrame()\n",
    "#results_test[['prob_stay', 'prob_leave']] = lr.predict_proba(X_test_fe_scaled)"
   ]
  },
  {
   "cell_type": "code",
   "execution_count": null,
   "id": "42989a66-5f32-4079-8da2-8bbe96673cd7",
   "metadata": {},
   "outputs": [],
   "source": [
    "#results_test['y_pred'] = np.where(results_test['prob_leave']>.5, 1, 0)"
   ]
  },
  {
   "cell_type": "code",
   "execution_count": null,
   "id": "670c412d-0450-4ef7-be30-ce13aae37161",
   "metadata": {},
   "outputs": [],
   "source": [
    "#get_results(y_test, results_test['y_pred'])"
   ]
  },
  {
   "cell_type": "markdown",
   "id": "242f116e-9031-4979-9fc9-84fbfe909ae6",
   "metadata": {},
   "source": [
    "## **Modeling (StatsModels)**"
   ]
  },
  {
   "cell_type": "code",
   "execution_count": 80,
   "id": "f0fabcff-51d0-42a7-a649-96da391c7ad6",
   "metadata": {},
   "outputs": [],
   "source": [
    "log_reg = sm.Logit(y_train, X_train_final)"
   ]
  },
  {
   "cell_type": "code",
   "execution_count": 82,
   "id": "e9ca1883-c4e2-4ac4-85de-91da5e14e1ae",
   "metadata": {},
   "outputs": [
    {
     "name": "stdout",
     "output_type": "stream",
     "text": [
      "Optimization terminated successfully.\n",
      "         Current function value: 0.397792\n",
      "         Iterations 7\n"
     ]
    }
   ],
   "source": [
    "result = log_reg.fit()"
   ]
  },
  {
   "cell_type": "code",
   "execution_count": 84,
   "id": "5c988185-f719-4f5b-92f1-df1d62d12333",
   "metadata": {},
   "outputs": [
    {
     "name": "stdout",
     "output_type": "stream",
     "text": [
      "                           Logit Regression Results                           \n",
      "==============================================================================\n",
      "Dep. Variable:            Churn Value   No. Observations:                 5634\n",
      "Model:                          Logit   Df Residuals:                     5613\n",
      "Method:                           MLE   Df Model:                           20\n",
      "Date:                Tue, 22 Jul 2025   Pseudo R-squ.:                  0.3068\n",
      "Time:                        11:14:02   Log-Likelihood:                -2241.2\n",
      "converged:                       True   LL-Null:                       -3232.9\n",
      "Covariance Type:            nonrobust   LLR p-value:                     0.000\n",
      "==========================================================================================================\n",
      "                                             coef    std err          z      P>|z|      [0.025      0.975]\n",
      "----------------------------------------------------------------------------------------------------------\n",
      "Latitude                                  -0.3932      0.155     -2.529      0.011      -0.698      -0.088\n",
      "Longitude                                 -0.5757      0.183     -3.150      0.002      -0.934      -0.217\n",
      "Gender                                     0.0300      0.074      0.406      0.685      -0.115       0.175\n",
      "Senior Citizen                             0.1092      0.094      1.158      0.247      -0.076       0.294\n",
      "Partner                                    0.2571      0.085      3.023      0.003       0.090       0.424\n",
      "Dependents                                -1.4601      0.132    -11.096      0.000      -1.718      -1.202\n",
      "Tenure Months                             -2.6467      0.197    -13.457      0.000      -3.032      -2.261\n",
      "Multiple Lines                             0.3048      0.089      3.430      0.001       0.131       0.479\n",
      "Online Security                           -0.3849      0.096     -4.002      0.000      -0.573      -0.196\n",
      "Online Backup                             -0.0486      0.087     -0.558      0.577      -0.219       0.122\n",
      "Device Protection                          0.0665      0.090      0.743      0.458      -0.109       0.242\n",
      "Tech Support                              -0.3389      0.097     -3.508      0.000      -0.528      -0.150\n",
      "Streaming TV                               0.2808      0.091      3.081      0.002       0.102       0.459\n",
      "Streaming Movies                           0.2242      0.091      2.455      0.014       0.045       0.403\n",
      "Contract                                  -1.3569      0.179     -7.587      0.000      -1.707      -1.006\n",
      "Paperless Billing                          0.3736      0.084      4.464      0.000       0.210       0.538\n",
      "Internet Service_Fiber optic               0.6562      0.093      7.079      0.000       0.475       0.838\n",
      "Internet Service_No                       -0.9516      0.147     -6.473      0.000      -1.240      -0.663\n",
      "Payment Method_Credit card (automatic)    -0.1570      0.128     -1.225      0.221      -0.408       0.094\n",
      "Payment Method_Electronic check            0.2956      0.105      2.816      0.005       0.090       0.501\n",
      "Payment Method_Mailed check               -0.0201      0.125     -0.161      0.872      -0.264       0.224\n",
      "==========================================================================================================\n"
     ]
    }
   ],
   "source": [
    "print(result.summary())"
   ]
  },
  {
   "cell_type": "markdown",
   "id": "5516e7ff-5217-4543-a523-4d6af9ef6241",
   "metadata": {},
   "source": [
    "### **Choose your threshold**"
   ]
  },
  {
   "cell_type": "code",
   "execution_count": 132,
   "id": "42a9a155-42aa-4968-be9e-c6a1b633c76f",
   "metadata": {},
   "outputs": [],
   "source": [
    "##################\n",
    "threshold = 0.35\n",
    "##################"
   ]
  },
  {
   "cell_type": "code",
   "execution_count": 106,
   "id": "68700112-03ad-4e99-ae36-a3b601673312",
   "metadata": {},
   "outputs": [
    {
     "data": {
      "text/html": [
       "<div>\n",
       "<style scoped>\n",
       "    .dataframe tbody tr th:only-of-type {\n",
       "        vertical-align: middle;\n",
       "    }\n",
       "\n",
       "    .dataframe tbody tr th {\n",
       "        vertical-align: top;\n",
       "    }\n",
       "\n",
       "    .dataframe thead th {\n",
       "        text-align: right;\n",
       "    }\n",
       "</style>\n",
       "<table border=\"1\" class=\"dataframe\">\n",
       "  <thead>\n",
       "    <tr style=\"text-align: right;\">\n",
       "      <th></th>\n",
       "      <th>y_train_prob</th>\n",
       "      <th>y_train_pred</th>\n",
       "      <th>y_train</th>\n",
       "    </tr>\n",
       "  </thead>\n",
       "  <tbody>\n",
       "    <tr>\n",
       "      <th>2142</th>\n",
       "      <td>0.157438</td>\n",
       "      <td>0</td>\n",
       "      <td>0</td>\n",
       "    </tr>\n",
       "    <tr>\n",
       "      <th>1623</th>\n",
       "      <td>0.529507</td>\n",
       "      <td>1</td>\n",
       "      <td>1</td>\n",
       "    </tr>\n",
       "    <tr>\n",
       "      <th>6074</th>\n",
       "      <td>0.368691</td>\n",
       "      <td>1</td>\n",
       "      <td>0</td>\n",
       "    </tr>\n",
       "    <tr>\n",
       "      <th>1362</th>\n",
       "      <td>0.401633</td>\n",
       "      <td>1</td>\n",
       "      <td>1</td>\n",
       "    </tr>\n",
       "    <tr>\n",
       "      <th>6754</th>\n",
       "      <td>0.036274</td>\n",
       "      <td>0</td>\n",
       "      <td>0</td>\n",
       "    </tr>\n",
       "  </tbody>\n",
       "</table>\n",
       "</div>"
      ],
      "text/plain": [
       "      y_train_prob  y_train_pred  y_train\n",
       "2142      0.157438             0        0\n",
       "1623      0.529507             1        1\n",
       "6074      0.368691             1        0\n",
       "1362      0.401633             1        1\n",
       "6754      0.036274             0        0"
      ]
     },
     "execution_count": 106,
     "metadata": {},
     "output_type": "execute_result"
    }
   ],
   "source": [
    "results = pd.DataFrame()\n",
    "results['y_train_prob'] = result.predict(X_train_final)\n",
    "results['y_train_pred'] = (results['y_train_prob']>threshold).astype(int)\n",
    "results['y_train'] = y_train\n",
    "results.head()"
   ]
  },
  {
   "cell_type": "code",
   "execution_count": 108,
   "id": "63df96d7-a734-40eb-addb-bc7bb12dcd98",
   "metadata": {},
   "outputs": [
    {
     "name": "stdout",
     "output_type": "stream",
     "text": [
      "The confusion matrix for your predictions is:\n",
      "[[3380  785]\n",
      " [ 393 1076]] \n",
      "\n",
      "The accuracy of your model is: 0.7909123180688676\n",
      "The recall of your model is: 0.7324710687542546\n",
      "The precision of your model is: 0.5781837721655024\n",
      "The F1-score of your model is: 0.6462462462462463\n"
     ]
    }
   ],
   "source": [
    "get_results(results.y_train,results.y_train_pred)"
   ]
  },
  {
   "cell_type": "markdown",
   "id": "145c0af2-195c-43b3-8b09-c64a36966fa2",
   "metadata": {},
   "source": [
    "## **Evaluation (StatsModels)**"
   ]
  },
  {
   "cell_type": "code",
   "execution_count": 111,
   "id": "47646d30-a0af-4acb-bd8b-1adb3e7bcb7c",
   "metadata": {},
   "outputs": [
    {
     "name": "stderr",
     "output_type": "stream",
     "text": [
      "/var/folders/gk/0ym9h57d05v80m40rlpbz2bm0000gq/T/ipykernel_18576/2918864045.py:3: FutureWarning: Downcasting behavior in `replace` is deprecated and will be removed in a future version. To retain the old behavior, explicitly call `result.infer_objects(copy=False)`. To opt-in to the future behavior, set `pd.set_option('future.no_silent_downcasting', True)`\n",
      "  col = df[col_name].replace({r'^No.*':0,'Yes':1,0:0,1:1}, regex=True)\n"
     ]
    }
   ],
   "source": [
    "X_test_fe = feature_engineering(X_test)"
   ]
  },
  {
   "cell_type": "code",
   "execution_count": 113,
   "id": "feed89c2-5b03-44db-9dd0-b271df1da950",
   "metadata": {},
   "outputs": [],
   "source": [
    "X_test_fe_scaled = pd.DataFrame(max_min(X_test_fe), index = X_test_fe.index, columns = X_test_fe.columns)"
   ]
  },
  {
   "cell_type": "code",
   "execution_count": null,
   "id": "78ce6155-e229-4500-8bb3-7eec759e3a1b",
   "metadata": {},
   "outputs": [],
   "source": []
  },
  {
   "cell_type": "code",
   "execution_count": 116,
   "id": "c5337512-03ae-421e-901e-90fb2a8f5457",
   "metadata": {},
   "outputs": [],
   "source": [
    "X_test_final = feature_selection(X_test_fe_scaled)"
   ]
  },
  {
   "cell_type": "code",
   "execution_count": 118,
   "id": "ceccb3d9-dda9-4387-a423-3048251202df",
   "metadata": {},
   "outputs": [
    {
     "data": {
      "text/html": [
       "<div>\n",
       "<style scoped>\n",
       "    .dataframe tbody tr th:only-of-type {\n",
       "        vertical-align: middle;\n",
       "    }\n",
       "\n",
       "    .dataframe tbody tr th {\n",
       "        vertical-align: top;\n",
       "    }\n",
       "\n",
       "    .dataframe thead th {\n",
       "        text-align: right;\n",
       "    }\n",
       "</style>\n",
       "<table border=\"1\" class=\"dataframe\">\n",
       "  <thead>\n",
       "    <tr style=\"text-align: right;\">\n",
       "      <th></th>\n",
       "      <th>y_test_prob</th>\n",
       "      <th>y_test_pred</th>\n",
       "      <th>y_test</th>\n",
       "    </tr>\n",
       "  </thead>\n",
       "  <tbody>\n",
       "    <tr>\n",
       "      <th>185</th>\n",
       "      <td>0.561559</td>\n",
       "      <td>1</td>\n",
       "      <td>1</td>\n",
       "    </tr>\n",
       "    <tr>\n",
       "      <th>2715</th>\n",
       "      <td>0.331221</td>\n",
       "      <td>0</td>\n",
       "      <td>0</td>\n",
       "    </tr>\n",
       "    <tr>\n",
       "      <th>3825</th>\n",
       "      <td>0.273231</td>\n",
       "      <td>0</td>\n",
       "      <td>0</td>\n",
       "    </tr>\n",
       "    <tr>\n",
       "      <th>1807</th>\n",
       "      <td>0.776577</td>\n",
       "      <td>1</td>\n",
       "      <td>1</td>\n",
       "    </tr>\n",
       "    <tr>\n",
       "      <th>132</th>\n",
       "      <td>0.325833</td>\n",
       "      <td>0</td>\n",
       "      <td>1</td>\n",
       "    </tr>\n",
       "  </tbody>\n",
       "</table>\n",
       "</div>"
      ],
      "text/plain": [
       "      y_test_prob  y_test_pred  y_test\n",
       "185      0.561559            1       1\n",
       "2715     0.331221            0       0\n",
       "3825     0.273231            0       0\n",
       "1807     0.776577            1       1\n",
       "132      0.325833            0       1"
      ]
     },
     "execution_count": 118,
     "metadata": {},
     "output_type": "execute_result"
    }
   ],
   "source": [
    "results_test = pd.DataFrame()\n",
    "results_test['y_test_prob'] = result.predict(X_test_final)\n",
    "results_test['y_test_pred'] = (results_test['y_test_prob']>threshold).astype(int)\n",
    "results_test['y_test'] = y_test\n",
    "results_test.head()"
   ]
  },
  {
   "cell_type": "code",
   "execution_count": 120,
   "id": "eb96d3ed-583a-4468-9a87-f6f2737264c5",
   "metadata": {},
   "outputs": [
    {
     "name": "stdout",
     "output_type": "stream",
     "text": [
      "The confusion matrix for your predictions is:\n",
      "[[817 192]\n",
      " [116 284]] \n",
      "\n",
      "The accuracy of your model is: 0.7814052519517388\n",
      "The recall of your model is: 0.71\n",
      "The precision of your model is: 0.5966386554621849\n",
      "The F1-score of your model is: 0.6484018264840182\n"
     ]
    }
   ],
   "source": [
    "get_results(results_test.y_test,results_test.y_test_pred)"
   ]
  }
 ],
 "metadata": {
  "kernelspec": {
   "display_name": "Python [conda env:base] *",
   "language": "python",
   "name": "conda-base-py"
  },
  "language_info": {
   "codemirror_mode": {
    "name": "ipython",
    "version": 3
   },
   "file_extension": ".py",
   "mimetype": "text/x-python",
   "name": "python",
   "nbconvert_exporter": "python",
   "pygments_lexer": "ipython3",
   "version": "3.12.7"
  }
 },
 "nbformat": 4,
 "nbformat_minor": 5
}
